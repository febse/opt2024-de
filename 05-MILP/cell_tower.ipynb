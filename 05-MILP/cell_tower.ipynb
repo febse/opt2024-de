{
  "cells": [
    {
      "cell_type": "markdown",
      "metadata": {
        "id": "zer1y7GQl6Eh"
      },
      "source": [
        "# Mobilfunkmasten und Netzabdeckung\n",
        "\n",
        "In den letzten zwei Jahrzehnten hat sich die Mobilfunktechnologie rasant entwickelt und der Bedarf an Mobilfunkdiensten ist stetig gestiegen. Diese Dienste werden durch ein Netz von Mobilfunkmasten bereitgestellt, die in der Regel von Mobilfunkbetreibern betrieben werden.\n",
        "\n",
        "Die Errichtung von Mobilfunkmasten ist jedoch mit Kosten verbunden, und die Netzbetreiber müssen sicherstellen, dass die Mobilfunkmasten so platziert werden, dass sie eine optimale Netzabdeckung bieten und gleichzeitig die Anzahl der Mobilfunkmasten so klein wie möglich ist.\n",
        "\n",
        "![Cell Tower Coverage](https://media.rnztools.nz/rnz/image/upload/s--5-nd_aXq--/c_scale,f_auto,q_auto,w_1050/v1651703353/4LTH50J_image_crop_141730)"
      ]
    },
    {
      "cell_type": "markdown",
      "metadata": {
        "id": "2BqnpXe5l6Em"
      },
      "source": [
        "## Problemstellung\n",
        "\n",
        "Ein Mobilfunknetzbetreiber plant die Errichtung einer Reihe von Mobilfunkmasten, um die Bewohner einer bestimmten Stadt mit einem Signal zu versorgen. Die Stadt wurde in einem früheren Schritt in eine Reihe von Regionen unterteilt. Der Betreiber muss nun entscheiden in welchen Regionen er Mobilfunkmasten errichten soll, um die größtmögliche Anzahl von Bewohnern zu erreichen. Die Anzahl der Bewohner in jeder Region ist bekannt und in der folgenden Tabelle aufgeführt:"
      ]
    },
    {
      "cell_type": "code",
      "execution_count": 15,
      "metadata": {},
      "outputs": [
        {
          "data": {
            "text/html": [
              "<div>\n",
              "<style scoped>\n",
              "    .dataframe tbody tr th:only-of-type {\n",
              "        vertical-align: middle;\n",
              "    }\n",
              "\n",
              "    .dataframe tbody tr th {\n",
              "        vertical-align: top;\n",
              "    }\n",
              "\n",
              "    .dataframe thead th {\n",
              "        text-align: right;\n",
              "    }\n",
              "</style>\n",
              "<table border=\"1\" class=\"dataframe\">\n",
              "  <thead>\n",
              "    <tr style=\"text-align: right;\">\n",
              "      <th></th>\n",
              "      <th>Population</th>\n",
              "    </tr>\n",
              "  </thead>\n",
              "  <tbody>\n",
              "    <tr>\n",
              "      <th>Region 1</th>\n",
              "      <td>523</td>\n",
              "    </tr>\n",
              "    <tr>\n",
              "      <th>Region 2</th>\n",
              "      <td>690</td>\n",
              "    </tr>\n",
              "    <tr>\n",
              "      <th>Region 3</th>\n",
              "      <td>420</td>\n",
              "    </tr>\n",
              "    <tr>\n",
              "      <th>Region 4</th>\n",
              "      <td>1010</td>\n",
              "    </tr>\n",
              "    <tr>\n",
              "      <th>Region 5</th>\n",
              "      <td>1200</td>\n",
              "    </tr>\n",
              "    <tr>\n",
              "      <th>Region 6</th>\n",
              "      <td>850</td>\n",
              "    </tr>\n",
              "    <tr>\n",
              "      <th>Region 7</th>\n",
              "      <td>400</td>\n",
              "    </tr>\n",
              "    <tr>\n",
              "      <th>Region 8</th>\n",
              "      <td>1008</td>\n",
              "    </tr>\n",
              "    <tr>\n",
              "      <th>Region 9</th>\n",
              "      <td>950</td>\n",
              "    </tr>\n",
              "  </tbody>\n",
              "</table>\n",
              "</div>"
            ],
            "text/plain": [
              "          Population\n",
              "Region 1         523\n",
              "Region 2         690\n",
              "Region 3         420\n",
              "Region 4        1010\n",
              "Region 5        1200\n",
              "Region 6         850\n",
              "Region 7         400\n",
              "Region 8        1008\n",
              "Region 9         950"
            ]
          },
          "execution_count": 15,
          "metadata": {},
          "output_type": "execute_result"
        }
      ],
      "source": [
        "import pandas as pd\n",
        "\n",
        "data = [\n",
        "    [\"Tower 0\", 1, 1, 0, 0, 0, 1, 0, 0, 0],\n",
        "    [\"Tower 1\", 1, 0, 0, 0, 0, 0, 0, 1, 1],\n",
        "    [\"Tower 2\", 0, 0, 1, 1, 1, 0, 1, 0, 0],\n",
        "    [\"Tower 3\", 0, 0, 1, 0, 0, 1, 1, 0, 0],\n",
        "    [\"Tower 4\", 1, 0, 1, 0, 0, 0, 1, 1, 1],\n",
        "    [\"Tower 5\", 0, 0, 0, 1, 1, 0, 0, 0, 1]\n",
        "]\n",
        "\n",
        "regions = [\"Region 1\", \"Region 2\", \"Region 3\", \"Region 4\", \"Region 5\", \"Region 6\", \"Region 7\", \"Region 8\", \"Region 9\"]\n",
        "\n",
        "df = pd.DataFrame(data, columns=[\"Tower\"] + regions)\n",
        "df.set_index(\"Tower\", inplace=True)\n",
        "\n",
        "pop_data = [523, 690, 420, 1010, 1200, 850, 400, 1008, 950]\n",
        "pop = pd.Series(\n",
        "    pop_data, \n",
        "    name=\"Population\",\n",
        "    index=regions\n",
        ")\n",
        "\n",
        "pop.to_frame()"
      ]
    },
    {
      "cell_type": "markdown",
      "metadata": {},
      "source": [
        "Die Reichweiten der Mobilfunkmasten sind ebenfalls bekannt und in der folgenden Tabelle aufgeführt:"
      ]
    },
    {
      "cell_type": "code",
      "execution_count": 16,
      "metadata": {},
      "outputs": [
        {
          "data": {
            "text/html": [
              "<div>\n",
              "<style scoped>\n",
              "    .dataframe tbody tr th:only-of-type {\n",
              "        vertical-align: middle;\n",
              "    }\n",
              "\n",
              "    .dataframe tbody tr th {\n",
              "        vertical-align: top;\n",
              "    }\n",
              "\n",
              "    .dataframe thead th {\n",
              "        text-align: right;\n",
              "    }\n",
              "</style>\n",
              "<table border=\"1\" class=\"dataframe\">\n",
              "  <thead>\n",
              "    <tr style=\"text-align: right;\">\n",
              "      <th></th>\n",
              "      <th>Region 1</th>\n",
              "      <th>Region 2</th>\n",
              "      <th>Region 3</th>\n",
              "      <th>Region 4</th>\n",
              "      <th>Region 5</th>\n",
              "      <th>Region 6</th>\n",
              "      <th>Region 7</th>\n",
              "      <th>Region 8</th>\n",
              "      <th>Region 9</th>\n",
              "    </tr>\n",
              "    <tr>\n",
              "      <th>Tower</th>\n",
              "      <th></th>\n",
              "      <th></th>\n",
              "      <th></th>\n",
              "      <th></th>\n",
              "      <th></th>\n",
              "      <th></th>\n",
              "      <th></th>\n",
              "      <th></th>\n",
              "      <th></th>\n",
              "    </tr>\n",
              "  </thead>\n",
              "  <tbody>\n",
              "    <tr>\n",
              "      <th>Tower 0</th>\n",
              "      <td>1</td>\n",
              "      <td>1</td>\n",
              "      <td>0</td>\n",
              "      <td>0</td>\n",
              "      <td>0</td>\n",
              "      <td>1</td>\n",
              "      <td>0</td>\n",
              "      <td>0</td>\n",
              "      <td>0</td>\n",
              "    </tr>\n",
              "    <tr>\n",
              "      <th>Tower 1</th>\n",
              "      <td>1</td>\n",
              "      <td>0</td>\n",
              "      <td>0</td>\n",
              "      <td>0</td>\n",
              "      <td>0</td>\n",
              "      <td>0</td>\n",
              "      <td>0</td>\n",
              "      <td>1</td>\n",
              "      <td>1</td>\n",
              "    </tr>\n",
              "    <tr>\n",
              "      <th>Tower 2</th>\n",
              "      <td>0</td>\n",
              "      <td>0</td>\n",
              "      <td>1</td>\n",
              "      <td>1</td>\n",
              "      <td>1</td>\n",
              "      <td>0</td>\n",
              "      <td>1</td>\n",
              "      <td>0</td>\n",
              "      <td>0</td>\n",
              "    </tr>\n",
              "    <tr>\n",
              "      <th>Tower 3</th>\n",
              "      <td>0</td>\n",
              "      <td>0</td>\n",
              "      <td>1</td>\n",
              "      <td>0</td>\n",
              "      <td>0</td>\n",
              "      <td>1</td>\n",
              "      <td>1</td>\n",
              "      <td>0</td>\n",
              "      <td>0</td>\n",
              "    </tr>\n",
              "    <tr>\n",
              "      <th>Tower 4</th>\n",
              "      <td>1</td>\n",
              "      <td>0</td>\n",
              "      <td>1</td>\n",
              "      <td>0</td>\n",
              "      <td>0</td>\n",
              "      <td>0</td>\n",
              "      <td>1</td>\n",
              "      <td>1</td>\n",
              "      <td>1</td>\n",
              "    </tr>\n",
              "    <tr>\n",
              "      <th>Tower 5</th>\n",
              "      <td>0</td>\n",
              "      <td>0</td>\n",
              "      <td>0</td>\n",
              "      <td>1</td>\n",
              "      <td>1</td>\n",
              "      <td>0</td>\n",
              "      <td>0</td>\n",
              "      <td>0</td>\n",
              "      <td>1</td>\n",
              "    </tr>\n",
              "  </tbody>\n",
              "</table>\n",
              "</div>"
            ],
            "text/plain": [
              "         Region 1  Region 2  Region 3  Region 4  Region 5  Region 6  Region 7  \\\n",
              "Tower                                                                           \n",
              "Tower 0         1         1         0         0         0         1         0   \n",
              "Tower 1         1         0         0         0         0         0         0   \n",
              "Tower 2         0         0         1         1         1         0         1   \n",
              "Tower 3         0         0         1         0         0         1         1   \n",
              "Tower 4         1         0         1         0         0         0         1   \n",
              "Tower 5         0         0         0         1         1         0         0   \n",
              "\n",
              "         Region 8  Region 9  \n",
              "Tower                        \n",
              "Tower 0         0         0  \n",
              "Tower 1         1         1  \n",
              "Tower 2         0         0  \n",
              "Tower 3         0         0  \n",
              "Tower 4         1         1  \n",
              "Tower 5         0         1  "
            ]
          },
          "execution_count": 16,
          "metadata": {},
          "output_type": "execute_result"
        }
      ],
      "source": [
        "df"
      ]
    },
    {
      "cell_type": "code",
      "execution_count": 19,
      "metadata": {},
      "outputs": [],
      "source": [
        "df_c = df.unstack()"
      ]
    },
    {
      "cell_type": "markdown",
      "metadata": {},
      "source": [
        "## Modellierung\n",
        "\n",
        "### Entscheidungsvariablen\n",
        "\n",
        "Zuerst müssen wir die Entscheidungsvariablen definieren. Die Frage, die wir beantworten müssen ist es, an welchen Stellen wir Mobilfunkmasten errichten sollten. Wir können deswegen für jede Stelle eine binäre Variable definieren, die angibt, ob an dieser Stelle ein Mobilfunkmast errichtet wird oder nicht. Wir definieren die binäre Variable $x_{i}$ als:\n",
        "\n",
        "$x_{l} = \\begin{cases} 1 & \\text{wenn ein Mobilfunkmast in Region } l \\text{ errichtet wird} \\\\ 0 & \\text{sonst} \\end{cases}$\n",
        "\n",
        "Um die Notation zu vereinfachen, definieren wir einen Index $l \\in L$, der die Stellen der Mobilfunkmasten angibt und einen weiteren Index $r \\in R$, der die Regionen angibt.\n",
        "\n",
        "### Parameter\n",
        "\n",
        "Die Parameter des Problems sind die Anzahl der Bewohner in jeder Region $R_{j}$ und die Abdeckung der Mobilfunkmasten an jeder stelle Region $t \\in T$.\n",
        "\n",
        "* $p_{r}, \\quad r \\in R$: Anzahl der Bewohner in Region $j$\n",
        "* $c_{l}, \\quad l \\in L$: Kosten für die Errichtung eines Mobilfunkmastes an Stelle $l$\n",
        "* $s_{r,l} \\in \\{0, 1\\}, \\quad r \\in R, l \\in L$: Gibt an, ob die Region $r$ von einem Mobilfunkmast an Stelle $l$ abgedeckt wird.\n",
        "\n",
        "## Zielfunktion\n",
        "\n",
        "Das Ziel des Netzbetreibers ist es, die Anzahl der Bewohner zu maximieren, die von den Mobilfunkmasten abgedeckt werden.\n",
        "\n",
        "$$\n",
        "\\text{max} \\sum_{r \\in R} \\sum_{l \\in L} p_{r} \\cdot s_{r,l} \\cdot x_{l}\n",
        "$$\n"
      ]
    },
    {
      "cell_type": "markdown",
      "metadata": {
        "id": "0DNr577Cl6Em"
      },
      "source": [
        "## Solution Approach\n",
        "\n",
        "Mathematical programming is a declarative approach where the modeler formulates a mathematical optimization model that captures the key aspects of a complex decision problem. The Gurobi Optimizer solves such models using state-of-the-art mathematics and computer science.\n",
        "\n",
        "A mathematical optimization model has five components, namely:\n",
        "\n",
        "* Sets and indices.\n",
        "* Parameters.\n",
        "* Decision variables.\n",
        "* Objective function(s).\n",
        "* Constraints.\n",
        "\n",
        "We now present a mixed-integer programming (MIP) formulation for the Cell Tower Coverage Problem."
      ]
    },
    {
      "cell_type": "markdown",
      "metadata": {
        "id": "Gr3AO1Nrl6En"
      },
      "source": [
        "## Model Formulation\n",
        "\n",
        "### Sets and Indices\n",
        "\n",
        "$i \\in T$: Index and set of potential sites to build a tower.\n",
        "\n",
        "$j \\in R$: Index and set of regions.\n",
        "\n",
        "$G(T,R,E)$: A bipartite graph defined over the set $T$ of potential sites to build a tower,  the set of regions $R$ that we want to cover, and $E$ is the set of edges, where we have an edge $(i,j) \\in E$ if region $j \\in R$ can be covered by a tower on location $i \\in T$.\n",
        "\n",
        "### Parameters\n",
        "\n",
        "$c_{i} \\in \\mathbb{R}^+$: The cost of setting up a tower at site $i$.\n",
        "\n",
        "$p_{j} \\in \\mathbb{N}$: The population at region $j$.\n",
        "\n",
        "### Decision Variables\n",
        "\n",
        "$covered_{j} \\in \\{0, 1 \\}$: This variable is equal to 1 if region $j$ is covered; and 0 otherwise.\n",
        "\n",
        "$build_{i} \\in \\{0, 1 \\}$: This variable is equal to 1 if tower $i$ is built; and 0 otherwise.\n",
        "\n",
        "### Objective Function(s)\n",
        "\n",
        "- **Population covered**. We seek to maximize the total population covered by the towers.\n",
        "\n",
        "\\begin{equation}\n",
        "\\text{Max} \\quad Z = \\sum_{j \\in R} p_{j} \\cdot covered_{j}\n",
        "\\tag{0}\n",
        "\\end{equation}\n",
        "\n",
        "### Constraints\n",
        "\n",
        "- **Coverage**. For each region $j \\in R$ ensure that at least one tower that covers a region must be selected.\n",
        "\n",
        "\\begin{equation}\n",
        "\\sum_{(i,j) \\in E} build_{i} \\geq covered_{j} \\quad \\forall j \\in R\n",
        "\\tag{1}\n",
        "\\end{equation}\n",
        "\n",
        "- **Budget**. We need to ensure that the total cost of building towers do not exceed the allocated budget.\n",
        "\n",
        "\\begin{equation}\n",
        "\\sum_{i \\in T} c_{i} \\cdot build_{i} \\leq \\text{budget}\n",
        "\\tag{2}\n",
        "\\end{equation}"
      ]
    },
    {
      "cell_type": "markdown",
      "metadata": {
        "id": "Nfkhbukol6Eo"
      },
      "source": [
        "## Python Implementation\n",
        "\n",
        "This example considers a bipartite graph for 6 towers and 9 regions. The following table illustrates which regions (columns) are covered by each cell tower site (rows).\n",
        "\n",
        "| <i></i> | Region 0 | Region 1 | Region 2 | Region 3 | Region 4 | Region 5 | Region 6 | Region 7 | Region 8 |\n",
        "| --- | --- | --- | --- | --- | --- | --- | --- | --- |  --- |\n",
        "| Tower 0 | 1 | 1 | - | - | - | 1 | - | - |  - |\n",
        "| Tower 1 | 1 | - | - | - | - | - | - | 1 |  1 |\n",
        "| Tower 2 | - | - | 1 | 1 | 1 | - | 1 | - |  - |\n",
        "| Tower 3 | - | - | 1 | - | - | 1 | 1 | - |  - |\n",
        "| Tower 4 | 1 | - | 1 | - | - | - | 1 | 1 |  1 |\n",
        "| Tower 5 | - | - | - | 1 | 1 | - | - | - |  1 |\n",
        "\n",
        "The population at each region is stated in the following table.\n",
        "\n",
        "| <i></i> | Region 0 | Region 1 | Region 2 | Region 3 | Region 4 | Region 5 | Region 6 | Region 7 | Region 8 |\n",
        "| --- | --- | --- | --- | --- | --- | --- | --- | --- | --- |\n",
        "| Population | 523 | 690 | 420 | 1010 | 1200 | 850 | 400 | 1008 | 950 |\n",
        "\n",
        "The cost to build a cell tower at each location site is stated inthe following table.\n",
        "\n",
        "| <i></i> | Cost (millions of USD) |\n",
        "| --- | --- |\n",
        "| Tower 0 | 4.2 |\n",
        "| Tower 1 | 6.1 |\n",
        "| Tower 2 | 5.2 |\n",
        "| Tower 3 | 5.5 |\n",
        "| Tower 4 | 4.8 |\n",
        "| Tower 5 | 9.2 |\n",
        "\n",
        "The allocated budget is $\\$20,000,000$.\n",
        "\n",
        "We now import the Gurobi Python Module. Then, we initialize the data structures with the given data.\n"
      ]
    },
    {
      "cell_type": "code",
      "execution_count": null,
      "metadata": {
        "id": "Lh7iZO7Bl6Eo"
      },
      "outputs": [],
      "source": [
        "%pip install gurobipy"
      ]
    },
    {
      "cell_type": "code",
      "execution_count": null,
      "metadata": {
        "id": "HewgFIEFl6Eq"
      },
      "outputs": [],
      "source": [
        "import gurobipy as gp\n",
        "from gurobipy import GRB\n",
        "\n",
        "# tested with Gurobi v9.0.0 and Python 3.7.0\n",
        "\n",
        "# Parameters\n",
        "budget = 20\n",
        "regions, population = gp.multidict({\n",
        "    0: 523, 1: 690, 2: 420,\n",
        "    3: 1010, 4: 1200, 5: 850,\n",
        "    6: 400, 7: 1008, 8: 950\n",
        "})\n",
        "\n",
        "sites, coverage, cost = gp.multidict({\n",
        "    0: [{0,1,5}, 4.2],\n",
        "    1: [{0,7,8}, 6.1],\n",
        "    2: [{2,3,4,6}, 5.2],\n",
        "    3: [{2,5,6}, 5.5],\n",
        "    4: [{0,2,6,7,8}, 4.8],\n",
        "    5: [{3,4,8}, 9.2]\n",
        "})\n"
      ]
    },
    {
      "cell_type": "markdown",
      "metadata": {
        "id": "_2nS3QSkl6Er"
      },
      "source": [
        "### Model Deployment\n",
        "\n",
        "We now determine the model for the Cell Tower Coverage Problem, by defining the decision variables, constraints, and objective function. Next, we start the optimization process and Gurobi finds the plan to build towers that maximizes  the coverage of the population given the budget allocated."
      ]
    },
    {
      "cell_type": "code",
      "execution_count": null,
      "metadata": {
        "id": "Dr_gfBMyl6Er",
        "outputId": "1921f812-39cf-4597-a635-88167cf8e53f",
        "scrolled": true
      },
      "outputs": [
        {
          "name": "stdout",
          "output_type": "stream",
          "text": [
            "Using license file c:\\gurobi\\gurobi.lic\n",
            "Gurobi Optimizer version 9.1.0 build v9.1.0rc0 (win64)\n",
            "Thread count: 4 physical cores, 8 logical processors, using up to 8 threads\n",
            "Optimize a model with 10 rows, 15 columns and 36 nonzeros\n",
            "Model fingerprint: 0xfa0fabb2\n",
            "Variable types: 0 continuous, 15 integer (15 binary)\n",
            "Coefficient statistics:\n",
            "  Matrix range     [1e+00, 9e+00]\n",
            "  Objective range  [4e+02, 1e+03]\n",
            "  Bounds range     [1e+00, 1e+00]\n",
            "  RHS range        [2e+01, 2e+01]\n",
            "Found heuristic solution: objective -0.0000000\n",
            "Presolve removed 4 rows and 5 columns\n",
            "Presolve time: 0.00s\n",
            "Presolved: 6 rows, 10 columns, 21 nonzeros\n",
            "Variable types: 0 continuous, 10 integer (10 binary)\n",
            "\n",
            "Root relaxation: objective 7.051000e+03, 1 iterations, 0.00 seconds\n",
            "\n",
            "    Nodes    |    Current Node    |     Objective Bounds      |     Work\n",
            " Expl Unexpl |  Obj  Depth IntInf | Incumbent    BestBd   Gap | It/Node Time\n",
            "\n",
            "*    0     0               0    7051.0000000 7051.00000  0.00%     -    0s\n",
            "\n",
            "Explored 0 nodes (1 simplex iterations) in 0.02 seconds\n",
            "Thread count was 8 (of 8 available processors)\n",
            "\n",
            "Solution count 2: 7051 -0 \n",
            "\n",
            "Optimal solution found (tolerance 1.00e-04)\n",
            "Best objective 7.051000000000e+03, best bound 7.051000000000e+03, gap 0.0000%\n"
          ]
        }
      ],
      "source": [
        "# MIP  model formulation\n",
        "m = gp.Model(\"cell_tower\")\n",
        "\n",
        "build = m.addVars(len(sites), vtype=GRB.BINARY, name=\"Build\")\n",
        "is_covered = m.addVars(len(regions), vtype=GRB.BINARY, name=\"Is_covered\")\n",
        "\n",
        "m.addConstrs((gp.quicksum(build[t] for t in sites if r in coverage[t]) >= is_covered[r]\n",
        "                        for r in regions), name=\"Build2cover\")\n",
        "m.addConstr(build.prod(cost) <= budget, name=\"budget\")\n",
        "\n",
        "m.setObjective(is_covered.prod(population), GRB.MAXIMIZE)\n",
        "\n",
        "m.optimize()"
      ]
    },
    {
      "cell_type": "markdown",
      "metadata": {
        "id": "n6oxPcjYl6Es"
      },
      "source": [
        "## Analysis\n",
        "The result of the optimization model shows that the maximum population that can be covered with the $\\$20,000,000$ budget is 7,051 people. Let's see the solution that achieves that optimal result.\n",
        "\n",
        "### Cell Tower Build Plan\n",
        "\n",
        "This plan determines at which site locations to build a cell tower."
      ]
    },
    {
      "cell_type": "code",
      "execution_count": null,
      "metadata": {
        "id": "50C5zg2ml6Es",
        "outputId": "f06df634-ad3c-4002-d780-dad6be0ad18e"
      },
      "outputs": [
        {
          "name": "stdout",
          "output_type": "stream",
          "text": [
            "\n",
            " Build a cell tower at location Tower 0.\n",
            "\n",
            " Build a cell tower at location Tower 2.\n",
            "\n",
            " Build a cell tower at location Tower 4.\n"
          ]
        }
      ],
      "source": [
        "# display optimal values of decision variables\n",
        "\n",
        "for tower in build.keys():\n",
        "    if (abs(build[tower].x) > 1e-6):\n",
        "        print(f\"\\n Build a cell tower at location Tower {tower}.\")"
      ]
    },
    {
      "cell_type": "markdown",
      "metadata": {
        "id": "cmkJGxpFl6Es"
      },
      "source": [
        "### Demand Fulfillment Metrics\n",
        "\n",
        "- **Coverage**: Percentage of the population covered by the cell towers built."
      ]
    },
    {
      "cell_type": "code",
      "execution_count": null,
      "metadata": {
        "id": "Kas6kbKwl6Es",
        "outputId": "61cdd488-d394-4bd6-9d23-8d0f4bde90e1"
      },
      "outputs": [
        {
          "name": "stdout",
          "output_type": "stream",
          "text": [
            "\n",
            " The population coverage associated to the cell towers build plan is: 100.0 %\n"
          ]
        }
      ],
      "source": [
        "# Percentage of the population covered by the cell towers built is computed as follows.\n",
        "\n",
        "total_population = 0\n",
        "\n",
        "for region in range(len(regions)):\n",
        "    total_population += population[region]\n",
        "\n",
        "coverage = round(100*m.objVal/total_population, 2)\n",
        "\n",
        "print(f\"\\n The population coverage associated to the cell towers build plan is: {coverage} %\")"
      ]
    },
    {
      "cell_type": "markdown",
      "metadata": {
        "id": "iQTD_33nl6Et"
      },
      "source": [
        "### Resources Utilization Metrics\n",
        "\n",
        "- **Budget consumption**: Percentage of the budget allocated to build the cell towers."
      ]
    },
    {
      "cell_type": "code",
      "execution_count": null,
      "metadata": {
        "id": "QbrdUwHIl6Et",
        "outputId": "04ccfe6e-2aad-4897-ca15-af85c553b313"
      },
      "outputs": [
        {
          "name": "stdout",
          "output_type": "stream",
          "text": [
            "\n",
            " The percentage of budget consumed associated to the cell towers build plan is: 71.0 %\n"
          ]
        }
      ],
      "source": [
        "# Percentage of budget consumed to build cell towers\n",
        "\n",
        "total_cost = 0\n",
        "\n",
        "for tower in range(len(sites)):\n",
        "    if (abs(build[tower].x) > 0.5):\n",
        "        total_cost += cost[tower]*int(build[tower].x)\n",
        "\n",
        "budget_consumption = round(100*total_cost/budget, 2)\n",
        "\n",
        "print(f\"\\n The percentage of budget consumed associated to the cell towers build plan is: {budget_consumption} %\")"
      ]
    },
    {
      "cell_type": "markdown",
      "metadata": {
        "id": "Keu8-4IKl6Et"
      },
      "source": [
        "##  Conclusion\n",
        "\n",
        "In this example, we address the problem of building cell towers to provide signal coverage  to the largest number of people while satisfying a budget constraint. We learned how to formulate the problem as a MIP model. Also, we learned how to implement the MIP model formulation and solve it using the Gurobi Python API."
      ]
    },
    {
      "cell_type": "markdown",
      "metadata": {
        "id": "qsayUH8Ol6Et"
      },
      "source": [
        "## References\n",
        "\n",
        "[1] Richard Church and Charles R. Velle. \"The Maximal Covering Location Problem\". Papers in Regional Science, 1974, vol. 32, issue 1, 101-118.\n",
        "\n",
        "[2] Tail Assignment Problem. https://www.gurobi.com/case_study/air-france-tail-assignment-optimization/"
      ]
    },
    {
      "cell_type": "markdown",
      "metadata": {
        "id": "w1zBu65Sl6Et"
      },
      "source": [
        "Copyright © 2020 Gurobi Optimization, LLC"
      ]
    }
  ],
  "metadata": {
    "colab": {
      "provenance": []
    },
    "kernelspec": {
      "display_name": "Python 3",
      "language": "python",
      "name": "python3"
    },
    "language_info": {
      "codemirror_mode": {
        "name": "ipython",
        "version": 3
      },
      "file_extension": ".py",
      "mimetype": "text/x-python",
      "name": "python",
      "nbconvert_exporter": "python",
      "pygments_lexer": "ipython3",
      "version": "3.11.8"
    }
  },
  "nbformat": 4,
  "nbformat_minor": 0
}
