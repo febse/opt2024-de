{
 "cells": [
  {
   "cell_type": "markdown",
   "id": "e672602c08a356b5",
   "metadata": {
    "collapsed": false
   },
   "source": [
    "# Pandas\n",
    "\n",
    "Während NumPy für die Arbeit mit Vektoren und Matritzen gedacht ist, ist Pandas für die Arbeit mit Tabellen gedacht. Pandas ist eine Python-Bibliothek, die auf NumPy aufbaut und die Arbeit mit Tabellen in Python erleichtert. Pandas ist eine Abkürzung für \"Python Data Analysis Library\" und wird in der Regel mit `pd` abgekürzt."
   ]
  },
  {
   "cell_type": "code",
   "execution_count": 2,
   "id": "initial_id",
   "metadata": {
    "ExecuteTime": {
     "end_time": "2024-01-19T16:39:35.051744681Z",
     "start_time": "2024-01-19T16:39:34.920952766Z"
    },
    "collapsed": true
   },
   "outputs": [],
   "source": [
    "import pandas as pd"
   ]
  },
  {
   "cell_type": "markdown",
   "id": "78e8aa43b445abb9",
   "metadata": {
    "collapsed": false
   },
   "source": [
    "## Series\n",
    "\n",
    "Die einfachste Datenstruktur in Pandas ist die `Series`. Eine `Series` ist eine eindimensionale Datenstruktur, die mit einem NumPy-Array vergleichbar ist. Eine `Series` kann mit der Funktion `pd.Series()` erstellt werden. Als Argument wird ein Array übergeben. Die `Series` hat einen Index, der standardmäßig mit 0 beginnt. Der Index kann mit dem Argument `index` angepasst werden. Der Index kann ein Array von Strings sein, um die Elemente der `Series` zu benennen.\n"
   ]
  },
  {
   "cell_type": "code",
   "execution_count": 3,
   "id": "e69823b89fe77899",
   "metadata": {
    "ExecuteTime": {
     "end_time": "2024-01-19T16:40:23.238872129Z",
     "start_time": "2024-01-19T16:40:23.194868607Z"
    },
    "collapsed": false
   },
   "outputs": [
    {
     "data": {
      "text/plain": [
       "0    1\n",
       "1    2\n",
       "2    3\n",
       "3    4\n",
       "4    5\n",
       "dtype: int64"
      ]
     },
     "execution_count": 3,
     "metadata": {},
     "output_type": "execute_result"
    }
   ],
   "source": [
    "# Erstellen einer Series\n",
    "s = pd.Series([1, 2, 3, 4, 5])\n",
    "s"
   ]
  },
  {
   "cell_type": "code",
   "execution_count": 4,
   "id": "28ed3776bd3c3833",
   "metadata": {
    "ExecuteTime": {
     "end_time": "2024-01-19T16:40:42.562809347Z",
     "start_time": "2024-01-19T16:40:42.559383112Z"
    },
    "collapsed": false
   },
   "outputs": [
    {
     "data": {
      "text/plain": [
       "a    1\n",
       "b    2\n",
       "c    3\n",
       "d    4\n",
       "e    5\n",
       "dtype: int64"
      ]
     },
     "execution_count": 4,
     "metadata": {},
     "output_type": "execute_result"
    }
   ],
   "source": [
    "# Erstellen einer Series mit Index\n",
    "s1 = pd.Series([1, 2, 3, 4, 5], index=['a', 'b', 'c', 'd', 'e'])\n",
    "s1"
   ]
  },
  {
   "cell_type": "markdown",
   "id": "e2bb36d0818bff50",
   "metadata": {
    "collapsed": false
   },
   "source": [
    "Die `Series` hat eine Reihe von Methoden, die aufgerufen werden können. Eine Übersicht über die Methoden kann mit `help(pd.Series)` aufgerufen werden. Die wichtigsten Methoden sind:"
   ]
  },
  {
   "cell_type": "markdown",
   "id": "a014a10f7245d0b5",
   "metadata": {
    "collapsed": false
   },
   "source": []
  },
  {
   "cell_type": "code",
   "execution_count": 6,
   "id": "4ac1a32c4981adaf",
   "metadata": {
    "ExecuteTime": {
     "end_time": "2024-01-19T16:41:19.838530802Z",
     "start_time": "2024-01-19T16:41:19.795496655Z"
    },
    "collapsed": false
   },
   "outputs": [
    {
     "data": {
      "text/plain": [
       "Index(['a', 'b', 'c', 'd', 'e'], dtype='object')"
      ]
     },
     "execution_count": 6,
     "metadata": {},
     "output_type": "execute_result"
    }
   ],
   "source": [
    "# Zugriff auf den Index\n",
    "s1.index"
   ]
  },
  {
   "cell_type": "code",
   "execution_count": 7,
   "id": "2410dfc63ab7862c",
   "metadata": {
    "ExecuteTime": {
     "end_time": "2024-01-19T16:41:26.567394359Z",
     "start_time": "2024-01-19T16:41:26.530959566Z"
    },
    "collapsed": false
   },
   "outputs": [
    {
     "data": {
      "text/plain": [
       "array([1, 2, 3, 4, 5])"
      ]
     },
     "execution_count": 7,
     "metadata": {},
     "output_type": "execute_result"
    }
   ],
   "source": [
    "# Zugriff auf die Werte\n",
    "s1.values"
   ]
  },
  {
   "cell_type": "code",
   "execution_count": 8,
   "id": "fbd9c0a286be704a",
   "metadata": {
    "ExecuteTime": {
     "end_time": "2024-01-19T16:41:35.743106424Z",
     "start_time": "2024-01-19T16:41:35.700481036Z"
    },
    "collapsed": false
   },
   "outputs": [
    {
     "data": {
      "text/plain": [
       "1"
      ]
     },
     "execution_count": 8,
     "metadata": {},
     "output_type": "execute_result"
    }
   ],
   "source": [
    "# Zugriff auf ein Element\n",
    "s1['a']"
   ]
  },
  {
   "cell_type": "code",
   "execution_count": 9,
   "id": "813666accbf08646",
   "metadata": {
    "ExecuteTime": {
     "end_time": "2024-01-19T16:41:42.228475187Z",
     "start_time": "2024-01-19T16:41:42.179648476Z"
    },
    "collapsed": false
   },
   "outputs": [
    {
     "data": {
      "text/plain": [
       "a    1\n",
       "c    3\n",
       "e    5\n",
       "dtype: int64"
      ]
     },
     "execution_count": 9,
     "metadata": {},
     "output_type": "execute_result"
    }
   ],
   "source": [
    "# Zugriff auf mehrere Elemente\n",
    "s1[['a', 'c', 'e']]"
   ]
  },
  {
   "cell_type": "code",
   "execution_count": 10,
   "id": "2a97a4a4bb0d521",
   "metadata": {
    "ExecuteTime": {
     "end_time": "2024-01-19T16:42:14.307961108Z",
     "start_time": "2024-01-19T16:42:14.299428383Z"
    },
    "collapsed": false
   },
   "outputs": [
    {
     "data": {
      "text/plain": [
       "1"
      ]
     },
     "execution_count": 10,
     "metadata": {},
     "output_type": "execute_result"
    }
   ],
   "source": [
    "# Zugriff auf ein Element mit dem Ganzzahl-Index\n",
    "s1.iloc[0]"
   ]
  },
  {
   "cell_type": "code",
   "execution_count": 13,
   "id": "c6fcbf2efe4a867b",
   "metadata": {
    "ExecuteTime": {
     "end_time": "2024-01-19T16:42:27.167809354Z",
     "start_time": "2024-01-19T16:42:27.161423117Z"
    },
    "collapsed": false
   },
   "outputs": [
    {
     "data": {
      "text/plain": [
       "1"
      ]
     },
     "execution_count": 13,
     "metadata": {},
     "output_type": "execute_result"
    }
   ],
   "source": [
    "# Zugriff auf mehrere Elemente mit dem Index\n",
    "s1.loc[\"a\"]"
   ]
  },
  {
   "cell_type": "code",
   "execution_count": 14,
   "id": "dfbc143474e7a605",
   "metadata": {
    "ExecuteTime": {
     "end_time": "2024-01-19T16:42:37.861406693Z",
     "start_time": "2024-01-19T16:42:37.807129721Z"
    },
    "collapsed": false
   },
   "outputs": [
    {
     "data": {
      "text/plain": [
       "a    1\n",
       "c    3\n",
       "e    5\n",
       "dtype: int64"
      ]
     },
     "execution_count": 14,
     "metadata": {},
     "output_type": "execute_result"
    }
   ],
   "source": [
    "s1.loc[[\"a\", \"c\", \"e\"]]"
   ]
  },
  {
   "cell_type": "code",
   "execution_count": 11,
   "id": "ace888ea34b67fff",
   "metadata": {
    "ExecuteTime": {
     "end_time": "2024-01-19T16:42:48.426580141Z",
     "start_time": "2024-01-19T16:42:48.418688154Z"
    },
    "collapsed": false
   },
   "outputs": [
    {
     "data": {
      "text/plain": [
       "15"
      ]
     },
     "execution_count": 11,
     "metadata": {},
     "output_type": "execute_result"
    }
   ],
   "source": [
    "s1.sum()"
   ]
  },
  {
   "cell_type": "code",
   "execution_count": 12,
   "id": "292a4dcb8bcb7cb",
   "metadata": {
    "ExecuteTime": {
     "end_time": "2024-01-19T16:42:52.191230528Z",
     "start_time": "2024-01-19T16:42:52.156054689Z"
    },
    "collapsed": false
   },
   "outputs": [
    {
     "data": {
      "text/plain": [
       "3.0"
      ]
     },
     "execution_count": 12,
     "metadata": {},
     "output_type": "execute_result"
    }
   ],
   "source": [
    "s1.mean()"
   ]
  },
  {
   "cell_type": "code",
   "execution_count": 13,
   "id": "cbd083002cba0e07",
   "metadata": {
    "ExecuteTime": {
     "end_time": "2024-01-19T16:42:57.114332942Z",
     "start_time": "2024-01-19T16:42:57.044525944Z"
    },
    "collapsed": false
   },
   "outputs": [
    {
     "data": {
      "text/plain": [
       "1.5811388300841898"
      ]
     },
     "execution_count": 13,
     "metadata": {},
     "output_type": "execute_result"
    }
   ],
   "source": [
    "s1.std()"
   ]
  },
  {
   "cell_type": "markdown",
   "id": "ac8c03c9e1a429de",
   "metadata": {
    "collapsed": false
   },
   "source": [
    "## DataFrame\n",
    "\n",
    "Das wichtigste Datenobjekt in Pandas ist der `DataFrame`. Ein `DataFrame` ist eine zweidimensionale Datenstruktur, die mit einer Tabelle vergleichbar ist. Ein `DataFrame` kann mit der Funktion `pd.DataFrame()` erstellt werden. Als Argument wird ein Array übergeben. Der `DataFrame` hat einen Index, der standardmäßig mit 0 beginnt. Der Index kann mit dem Argument `index` angepasst werden. Der Index kann ein Array von Strings sein, um die Zeilen des `DataFrame` zu benennen. Die Spalten des `DataFrame` können mit dem Argument `columns` benannt werden."
   ]
  },
  {
   "cell_type": "code",
   "execution_count": 16,
   "id": "b94a4d7784d6ef3",
   "metadata": {
    "ExecuteTime": {
     "end_time": "2024-01-19T16:45:17.102853428Z",
     "start_time": "2024-01-19T16:45:17.059570943Z"
    },
    "collapsed": false
   },
   "outputs": [
    {
     "data": {
      "text/html": [
       "<div>\n",
       "<style scoped>\n",
       "    .dataframe tbody tr th:only-of-type {\n",
       "        vertical-align: middle;\n",
       "    }\n",
       "\n",
       "    .dataframe tbody tr th {\n",
       "        vertical-align: top;\n",
       "    }\n",
       "\n",
       "    .dataframe thead th {\n",
       "        text-align: right;\n",
       "    }\n",
       "</style>\n",
       "<table border=\"1\" class=\"dataframe\">\n",
       "  <thead>\n",
       "    <tr style=\"text-align: right;\">\n",
       "      <th></th>\n",
       "      <th>A</th>\n",
       "      <th>B</th>\n",
       "      <th>C</th>\n",
       "    </tr>\n",
       "  </thead>\n",
       "  <tbody>\n",
       "    <tr>\n",
       "      <th>0</th>\n",
       "      <td>1</td>\n",
       "      <td>2</td>\n",
       "      <td>3</td>\n",
       "    </tr>\n",
       "    <tr>\n",
       "      <th>1</th>\n",
       "      <td>4</td>\n",
       "      <td>5</td>\n",
       "      <td>6</td>\n",
       "    </tr>\n",
       "    <tr>\n",
       "      <th>2</th>\n",
       "      <td>7</td>\n",
       "      <td>7</td>\n",
       "      <td>9</td>\n",
       "    </tr>\n",
       "    <tr>\n",
       "      <th>3</th>\n",
       "      <td>10</td>\n",
       "      <td>11</td>\n",
       "      <td>12</td>\n",
       "    </tr>\n",
       "  </tbody>\n",
       "</table>\n",
       "</div>"
      ],
      "text/plain": [
       "    A   B   C\n",
       "0   1   2   3\n",
       "1   4   5   6\n",
       "2   7   7   9\n",
       "3  10  11  12"
      ]
     },
     "execution_count": 16,
     "metadata": {},
     "output_type": "execute_result"
    }
   ],
   "source": [
    "df = pd.DataFrame([[1, 2, 3], [4, 5, 6], [7, 7, 9], [10, 11, 12]], columns=['A', 'B', 'C'])\n",
    "df"
   ]
  },
  {
   "cell_type": "code",
   "execution_count": 17,
   "id": "83ff005a627c650f",
   "metadata": {
    "ExecuteTime": {
     "end_time": "2024-01-19T16:45:59.780313698Z",
     "start_time": "2024-01-19T16:45:59.758712571Z"
    },
    "collapsed": false
   },
   "outputs": [
    {
     "data": {
      "text/html": [
       "<div>\n",
       "<style scoped>\n",
       "    .dataframe tbody tr th:only-of-type {\n",
       "        vertical-align: middle;\n",
       "    }\n",
       "\n",
       "    .dataframe tbody tr th {\n",
       "        vertical-align: top;\n",
       "    }\n",
       "\n",
       "    .dataframe thead th {\n",
       "        text-align: right;\n",
       "    }\n",
       "</style>\n",
       "<table border=\"1\" class=\"dataframe\">\n",
       "  <thead>\n",
       "    <tr style=\"text-align: right;\">\n",
       "      <th></th>\n",
       "      <th>X</th>\n",
       "      <th>Y</th>\n",
       "      <th>Z</th>\n",
       "    </tr>\n",
       "  </thead>\n",
       "  <tbody>\n",
       "    <tr>\n",
       "      <th>a</th>\n",
       "      <td>1</td>\n",
       "      <td>2</td>\n",
       "      <td>3</td>\n",
       "    </tr>\n",
       "    <tr>\n",
       "      <th>b</th>\n",
       "      <td>4</td>\n",
       "      <td>5</td>\n",
       "      <td>6</td>\n",
       "    </tr>\n",
       "    <tr>\n",
       "      <th>c</th>\n",
       "      <td>7</td>\n",
       "      <td>7</td>\n",
       "      <td>9</td>\n",
       "    </tr>\n",
       "    <tr>\n",
       "      <th>d</th>\n",
       "      <td>10</td>\n",
       "      <td>11</td>\n",
       "      <td>12</td>\n",
       "    </tr>\n",
       "  </tbody>\n",
       "</table>\n",
       "</div>"
      ],
      "text/plain": [
       "    X   Y   Z\n",
       "a   1   2   3\n",
       "b   4   5   6\n",
       "c   7   7   9\n",
       "d  10  11  12"
      ]
     },
     "execution_count": 17,
     "metadata": {},
     "output_type": "execute_result"
    }
   ],
   "source": [
    "df1 = pd.DataFrame([[1, 2, 3], [4, 5, 6], [7, 7, 9], [10, 11, 12]],\n",
    "                   index=['a', 'b', 'c', 'd'],\n",
    "                   columns=['X', 'Y', 'Z']\n",
    "                   )\n",
    "df1"
   ]
  },
  {
   "cell_type": "markdown",
   "id": "45dda590f6b7ad08",
   "metadata": {
    "collapsed": false
   },
   "source": [
    "Die `DataFrame` hat eine Reihe von Methoden, die aufgerufen werden können. Eine Übersicht über die Methoden kann mit `help(pd.DataFrame)` aufgerufen werden. Die wichtigsten Methoden sind:"
   ]
  },
  {
   "cell_type": "code",
   "execution_count": 18,
   "id": "f91855a85a0933f0",
   "metadata": {
    "ExecuteTime": {
     "end_time": "2024-01-19T16:46:28.606147703Z",
     "start_time": "2024-01-19T16:46:28.599000822Z"
    },
    "collapsed": false
   },
   "outputs": [
    {
     "data": {
      "text/plain": [
       "22"
      ]
     },
     "execution_count": 18,
     "metadata": {},
     "output_type": "execute_result"
    }
   ],
   "source": [
    "df1[\"X\"].sum()"
   ]
  },
  {
   "cell_type": "code",
   "execution_count": 19,
   "id": "4c5b4247d227c3e5",
   "metadata": {
    "ExecuteTime": {
     "end_time": "2024-01-19T16:46:32.493941542Z",
     "start_time": "2024-01-19T16:46:32.485743200Z"
    },
    "collapsed": false
   },
   "outputs": [
    {
     "data": {
      "text/plain": [
       "5.5"
      ]
     },
     "execution_count": 19,
     "metadata": {},
     "output_type": "execute_result"
    }
   ],
   "source": [
    "df1[\"X\"].mean()"
   ]
  },
  {
   "cell_type": "code",
   "execution_count": 20,
   "id": "c46c1e63339aea1c",
   "metadata": {
    "ExecuteTime": {
     "end_time": "2024-01-19T16:46:37.041145607Z",
     "start_time": "2024-01-19T16:46:36.983244847Z"
    },
    "collapsed": false
   },
   "outputs": [
    {
     "data": {
      "text/plain": [
       "3.872983346207417"
      ]
     },
     "execution_count": 20,
     "metadata": {},
     "output_type": "execute_result"
    }
   ],
   "source": [
    "df1[\"X\"].std()"
   ]
  },
  {
   "cell_type": "code",
   "execution_count": 21,
   "id": "c2e27dfa3d52f4f0",
   "metadata": {
    "ExecuteTime": {
     "end_time": "2024-01-19T16:46:43.768887876Z",
     "start_time": "2024-01-19T16:46:43.760280079Z"
    },
    "collapsed": false
   },
   "outputs": [
    {
     "data": {
      "text/plain": [
       "count     4.000000\n",
       "mean      5.500000\n",
       "std       3.872983\n",
       "min       1.000000\n",
       "25%       3.250000\n",
       "50%       5.500000\n",
       "75%       7.750000\n",
       "max      10.000000\n",
       "Name: X, dtype: float64"
      ]
     },
     "execution_count": 21,
     "metadata": {},
     "output_type": "execute_result"
    }
   ],
   "source": [
    "df1[\"X\"].describe()"
   ]
  },
  {
   "cell_type": "code",
   "execution_count": 22,
   "id": "78068c72dc3d288f",
   "metadata": {
    "ExecuteTime": {
     "end_time": "2024-01-19T16:46:51.678593624Z",
     "start_time": "2024-01-19T16:46:51.040073828Z"
    },
    "collapsed": false
   },
   "outputs": [
    {
     "data": {
      "text/plain": [
       "<Axes: >"
      ]
     },
     "execution_count": 22,
     "metadata": {},
     "output_type": "execute_result"
    },
    {
     "data": {
      "image/png": "[encoded data removed]",
      "text/plain": [
       "<Figure size 640x480 with 1 Axes>"
      ]
     },
     "metadata": {},
     "output_type": "display_data"
    }
   ],
   "source": [
    "df1[\"X\"].plot()"
   ]
  },
  {
   "cell_type": "code",
   "execution_count": 23,
   "id": "9858cf8dff551203",
   "metadata": {
    "ExecuteTime": {
     "end_time": "2024-01-19T16:46:59.474058025Z",
     "start_time": "2024-01-19T16:46:59.385334869Z"
    },
    "collapsed": false
   },
   "outputs": [
    {
     "data": {
      "text/plain": [
       "<Axes: >"
      ]
     },
     "execution_count": 23,
     "metadata": {},
     "output_type": "execute_result"
    },
    {
     "data": {
      "image/png": "[encoded data removed]",
      "text/plain": [
       "<Figure size 640x480 with 1 Axes>"
      ]
     },
     "metadata": {},
     "output_type": "display_data"
    }
   ],
   "source": [
    "df1.plot()"
   ]
  },
  {
   "cell_type": "code",
   "execution_count": 24,
   "id": "3362aafaf49d731c",
   "metadata": {
    "ExecuteTime": {
     "end_time": "2024-01-19T16:47:06.965300022Z",
     "start_time": "2024-01-19T16:47:06.896817087Z"
    },
    "collapsed": false
   },
   "outputs": [
    {
     "data": {
      "text/plain": [
       "<Axes: >"
      ]
     },
     "execution_count": 24,
     "metadata": {},
     "output_type": "execute_result"
    },
    {
     "data": {
      "image/png": "[encoded data removed]",
      "text/plain": [
       "<Figure size 640x480 with 1 Axes>"
      ]
     },
     "metadata": {},
     "output_type": "display_data"
    }
   ],
   "source": [
    "df1.plot(kind=\"bar\")"
   ]
  },
  {
   "cell_type": "code",
   "execution_count": 25,
   "id": "13b4ab3c4efe7b79",
   "metadata": {
    "ExecuteTime": {
     "end_time": "2024-01-19T16:47:12.971312459Z",
     "start_time": "2024-01-19T16:47:12.878491200Z"
    },
    "collapsed": false
   },
   "outputs": [
    {
     "data": {
      "text/plain": [
       "<Axes: >"
      ]
     },
     "execution_count": 25,
     "metadata": {},
     "output_type": "execute_result"
    },
    {
     "data": {
      "image/png": "[encoded data removed]",
      "text/plain": [
       "<Figure size 640x480 with 1 Axes>"
      ]
     },
     "metadata": {},
     "output_type": "display_data"
    }
   ],
   "source": [
    "df1.plot(kind=\"barh\")"
   ]
  },
  {
   "cell_type": "code",
   "execution_count": 26,
   "id": "68a74766f679c725",
   "metadata": {
    "ExecuteTime": {
     "end_time": "2024-01-19T16:47:17.675800848Z",
     "start_time": "2024-01-19T16:47:17.595483851Z"
    },
    "collapsed": false
   },
   "outputs": [
    {
     "data": {
      "text/plain": [
       "<Axes: >"
      ]
     },
     "execution_count": 26,
     "metadata": {},
     "output_type": "execute_result"
    },
    {
     "data": {
      "image/png": "[encoded data removed]",
      "text/plain": [
       "<Figure size 640x480 with 1 Axes>"
      ]
     },
     "metadata": {},
     "output_type": "display_data"
    }
   ],
   "source": [
    "df1.plot(kind=\"box\")"
   ]
  },
  {
   "cell_type": "code",
   "execution_count": 27,
   "id": "4e6351949f91f977",
   "metadata": {
    "ExecuteTime": {
     "end_time": "2024-01-19T16:48:29.737328240Z",
     "start_time": "2024-01-19T16:48:29.689396121Z"
    },
    "collapsed": false
   },
   "outputs": [
    {
     "data": {
      "text/html": [
       "<div>\n",
       "<style scoped>\n",
       "    .dataframe tbody tr th:only-of-type {\n",
       "        vertical-align: middle;\n",
       "    }\n",
       "\n",
       "    .dataframe tbody tr th {\n",
       "        vertical-align: top;\n",
       "    }\n",
       "\n",
       "    .dataframe thead th {\n",
       "        text-align: right;\n",
       "    }\n",
       "</style>\n",
       "<table border=\"1\" class=\"dataframe\">\n",
       "  <thead>\n",
       "    <tr style=\"text-align: right;\">\n",
       "      <th></th>\n",
       "      <th>X</th>\n",
       "      <th>Y</th>\n",
       "      <th>Z</th>\n",
       "      <th>XplusZ</th>\n",
       "    </tr>\n",
       "  </thead>\n",
       "  <tbody>\n",
       "    <tr>\n",
       "      <th>a</th>\n",
       "      <td>1</td>\n",
       "      <td>2</td>\n",
       "      <td>3</td>\n",
       "      <td>4</td>\n",
       "    </tr>\n",
       "    <tr>\n",
       "      <th>b</th>\n",
       "      <td>4</td>\n",
       "      <td>5</td>\n",
       "      <td>6</td>\n",
       "      <td>10</td>\n",
       "    </tr>\n",
       "    <tr>\n",
       "      <th>c</th>\n",
       "      <td>7</td>\n",
       "      <td>7</td>\n",
       "      <td>9</td>\n",
       "      <td>16</td>\n",
       "    </tr>\n",
       "    <tr>\n",
       "      <th>d</th>\n",
       "      <td>10</td>\n",
       "      <td>11</td>\n",
       "      <td>12</td>\n",
       "      <td>22</td>\n",
       "    </tr>\n",
       "  </tbody>\n",
       "</table>\n",
       "</div>"
      ],
      "text/plain": [
       "    X   Y   Z  XplusZ\n",
       "a   1   2   3       4\n",
       "b   4   5   6      10\n",
       "c   7   7   9      16\n",
       "d  10  11  12      22"
      ]
     },
     "execution_count": 27,
     "metadata": {},
     "output_type": "execute_result"
    }
   ],
   "source": [
    "df1[\"XplusZ\"] = df1[\"X\"] + df1[\"Z\"]\n",
    "df1.head()"
   ]
  },
  {
   "cell_type": "code",
   "execution_count": 28,
   "id": "9e8eab65a9408f72",
   "metadata": {
    "ExecuteTime": {
     "end_time": "2024-01-19T16:48:48.141723305Z",
     "start_time": "2024-01-19T16:48:48.096402591Z"
    },
    "collapsed": false
   },
   "outputs": [
    {
     "data": {
      "text/html": [
       "<div>\n",
       "<style scoped>\n",
       "    .dataframe tbody tr th:only-of-type {\n",
       "        vertical-align: middle;\n",
       "    }\n",
       "\n",
       "    .dataframe tbody tr th {\n",
       "        vertical-align: top;\n",
       "    }\n",
       "\n",
       "    .dataframe thead th {\n",
       "        text-align: right;\n",
       "    }\n",
       "</style>\n",
       "<table border=\"1\" class=\"dataframe\">\n",
       "  <thead>\n",
       "    <tr style=\"text-align: right;\">\n",
       "      <th></th>\n",
       "      <th>X</th>\n",
       "      <th>Y</th>\n",
       "      <th>Z</th>\n",
       "      <th>XplusZ</th>\n",
       "      <th>XtimesZ</th>\n",
       "    </tr>\n",
       "  </thead>\n",
       "  <tbody>\n",
       "    <tr>\n",
       "      <th>a</th>\n",
       "      <td>1</td>\n",
       "      <td>2</td>\n",
       "      <td>3</td>\n",
       "      <td>4</td>\n",
       "      <td>3</td>\n",
       "    </tr>\n",
       "    <tr>\n",
       "      <th>b</th>\n",
       "      <td>4</td>\n",
       "      <td>5</td>\n",
       "      <td>6</td>\n",
       "      <td>10</td>\n",
       "      <td>24</td>\n",
       "    </tr>\n",
       "    <tr>\n",
       "      <th>c</th>\n",
       "      <td>7</td>\n",
       "      <td>7</td>\n",
       "      <td>9</td>\n",
       "      <td>16</td>\n",
       "      <td>63</td>\n",
       "    </tr>\n",
       "    <tr>\n",
       "      <th>d</th>\n",
       "      <td>10</td>\n",
       "      <td>11</td>\n",
       "      <td>12</td>\n",
       "      <td>22</td>\n",
       "      <td>120</td>\n",
       "    </tr>\n",
       "  </tbody>\n",
       "</table>\n",
       "</div>"
      ],
      "text/plain": [
       "    X   Y   Z  XplusZ  XtimesZ\n",
       "a   1   2   3       4        3\n",
       "b   4   5   6      10       24\n",
       "c   7   7   9      16       63\n",
       "d  10  11  12      22      120"
      ]
     },
     "execution_count": 28,
     "metadata": {},
     "output_type": "execute_result"
    }
   ],
   "source": [
    "df1[\"XtimesZ\"] = df1[\"X\"] * df1[\"Z\"]\n",
    "df1.head()"
   ]
  },
  {
   "cell_type": "code",
   "execution_count": 29,
   "id": "964c4965b8c1d5bf",
   "metadata": {
    "ExecuteTime": {
     "end_time": "2024-01-19T16:48:55.379821041Z",
     "start_time": "2024-01-19T16:48:55.352634978Z"
    },
    "collapsed": false
   },
   "outputs": [
    {
     "data": {
      "text/html": [
       "<div>\n",
       "<style scoped>\n",
       "    .dataframe tbody tr th:only-of-type {\n",
       "        vertical-align: middle;\n",
       "    }\n",
       "\n",
       "    .dataframe tbody tr th {\n",
       "        vertical-align: top;\n",
       "    }\n",
       "\n",
       "    .dataframe thead th {\n",
       "        text-align: right;\n",
       "    }\n",
       "</style>\n",
       "<table border=\"1\" class=\"dataframe\">\n",
       "  <thead>\n",
       "    <tr style=\"text-align: right;\">\n",
       "      <th></th>\n",
       "      <th>X</th>\n",
       "      <th>Y</th>\n",
       "      <th>Z</th>\n",
       "      <th>XplusZ</th>\n",
       "      <th>XtimesZ</th>\n",
       "      <th>XdivZ</th>\n",
       "    </tr>\n",
       "  </thead>\n",
       "  <tbody>\n",
       "    <tr>\n",
       "      <th>a</th>\n",
       "      <td>1</td>\n",
       "      <td>2</td>\n",
       "      <td>3</td>\n",
       "      <td>4</td>\n",
       "      <td>3</td>\n",
       "      <td>0.333333</td>\n",
       "    </tr>\n",
       "    <tr>\n",
       "      <th>b</th>\n",
       "      <td>4</td>\n",
       "      <td>5</td>\n",
       "      <td>6</td>\n",
       "      <td>10</td>\n",
       "      <td>24</td>\n",
       "      <td>0.666667</td>\n",
       "    </tr>\n",
       "    <tr>\n",
       "      <th>c</th>\n",
       "      <td>7</td>\n",
       "      <td>7</td>\n",
       "      <td>9</td>\n",
       "      <td>16</td>\n",
       "      <td>63</td>\n",
       "      <td>0.777778</td>\n",
       "    </tr>\n",
       "    <tr>\n",
       "      <th>d</th>\n",
       "      <td>10</td>\n",
       "      <td>11</td>\n",
       "      <td>12</td>\n",
       "      <td>22</td>\n",
       "      <td>120</td>\n",
       "      <td>0.833333</td>\n",
       "    </tr>\n",
       "  </tbody>\n",
       "</table>\n",
       "</div>"
      ],
      "text/plain": [
       "    X   Y   Z  XplusZ  XtimesZ     XdivZ\n",
       "a   1   2   3       4        3  0.333333\n",
       "b   4   5   6      10       24  0.666667\n",
       "c   7   7   9      16       63  0.777778\n",
       "d  10  11  12      22      120  0.833333"
      ]
     },
     "execution_count": 29,
     "metadata": {},
     "output_type": "execute_result"
    }
   ],
   "source": [
    "df1[\"XdivZ\"] = df1[\"X\"] / df1[\"Z\"]\n",
    "df1.head()"
   ]
  },
  {
   "cell_type": "markdown",
   "id": "11b456994ca87d91",
   "metadata": {
    "collapsed": false
   },
   "source": [
    "## GroupBy\n",
    "\n",
    "Mit der Funktion `groupby()` können die Daten in einem `DataFrame` gruppiert werden. Die Funktion `groupby()` gibt ein `DataFrameGroupBy`-Objekt zurück. Mit diesem Objekt können verschiedene Aggregationsfunktionen aufgerufen werden. Die wichtigsten Aggregationsfunktionen sind:\n",
    "- `count()`: Anzahl der Elemente\n",
    "- `sum()`: Summe der Elemente\n",
    "- `mean()`: Mittelwert der Elemente\n",
    "- `median()`: Median der Elemente\n",
    "- `min()`: Minimum der Elemente\n",
    "- `max()`: Maximum der Elemente\n",
    "- `std()`: Standardabweichung der Elemente\n",
    "- `var()`: Varianz der Elemente\n",
    "- `describe()`: Statistische Kennzahlen der Elemente\n",
    "- `first()`: Erstes Element\n",
    "- `last()`: Letztes Element\n",
    "- `nth()`: n-tes Element"
   ]
  },
  {
   "cell_type": "code",
   "execution_count": 30,
   "id": "92bcf808c85704fb",
   "metadata": {
    "ExecuteTime": {
     "end_time": "2024-01-19T16:54:51.567889489Z",
     "start_time": "2024-01-19T16:54:51.565333623Z"
    },
    "collapsed": false
   },
   "outputs": [
    {
     "data": {
      "text/html": [
       "<div>\n",
       "<style scoped>\n",
       "    .dataframe tbody tr th:only-of-type {\n",
       "        vertical-align: middle;\n",
       "    }\n",
       "\n",
       "    .dataframe tbody tr th {\n",
       "        vertical-align: top;\n",
       "    }\n",
       "\n",
       "    .dataframe thead th {\n",
       "        text-align: right;\n",
       "    }\n",
       "</style>\n",
       "<table border=\"1\" class=\"dataframe\">\n",
       "  <thead>\n",
       "    <tr style=\"text-align: right;\">\n",
       "      <th></th>\n",
       "      <th>Name</th>\n",
       "      <th>Gender</th>\n",
       "      <th>YearOfBirth</th>\n",
       "      <th>Age</th>\n",
       "    </tr>\n",
       "  </thead>\n",
       "  <tbody>\n",
       "    <tr>\n",
       "      <th>0</th>\n",
       "      <td>Alice</td>\n",
       "      <td>f</td>\n",
       "      <td>1999</td>\n",
       "      <td>25</td>\n",
       "    </tr>\n",
       "    <tr>\n",
       "      <th>1</th>\n",
       "      <td>Bob</td>\n",
       "      <td>m</td>\n",
       "      <td>1985</td>\n",
       "      <td>39</td>\n",
       "    </tr>\n",
       "    <tr>\n",
       "      <th>2</th>\n",
       "      <td>Mallory</td>\n",
       "      <td>f</td>\n",
       "      <td>1997</td>\n",
       "      <td>27</td>\n",
       "    </tr>\n",
       "    <tr>\n",
       "      <th>3</th>\n",
       "      <td>Mallory</td>\n",
       "      <td>f</td>\n",
       "      <td>1990</td>\n",
       "      <td>34</td>\n",
       "    </tr>\n",
       "    <tr>\n",
       "      <th>4</th>\n",
       "      <td>Bob</td>\n",
       "      <td>m</td>\n",
       "      <td>1987</td>\n",
       "      <td>37</td>\n",
       "    </tr>\n",
       "  </tbody>\n",
       "</table>\n",
       "</div>"
      ],
      "text/plain": [
       "      Name Gender  YearOfBirth  Age\n",
       "0    Alice      f         1999   25\n",
       "1      Bob      m         1985   39\n",
       "2  Mallory      f         1997   27\n",
       "3  Mallory      f         1990   34\n",
       "4      Bob      m         1987   37"
      ]
     },
     "execution_count": 30,
     "metadata": {},
     "output_type": "execute_result"
    }
   ],
   "source": [
    "df2 = pd.DataFrame({\n",
    "    \"Name\": [\"Alice\", \"Bob\", \"Mallory\", \"Mallory\", \"Bob\", \"Mallory\"],\n",
    "    \"Gender\": [\"f\", \"m\", \"f\", \"f\", \"m\", \"f\"],\n",
    "    \"YearOfBirth\": [1999, 1985, 1997, 1990, 1987, 1990],\n",
    "}\n",
    ")\n",
    "df2[\"Age\"] = 2024 - df2[\"YearOfBirth\"]\n",
    "df2.head()"
   ]
  },
  {
   "cell_type": "code",
   "execution_count": 34,
   "id": "ca30e40e6fc7ee42",
   "metadata": {
    "ExecuteTime": {
     "end_time": "2024-01-19T16:54:53.414979500Z",
     "start_time": "2024-01-19T16:54:53.378030651Z"
    },
    "collapsed": false
   },
   "outputs": [
    {
     "data": {
      "text/plain": [
       "<pandas.core.groupby.generic.DataFrameGroupBy object at 0x7f438660ee10>"
      ]
     },
     "execution_count": 34,
     "metadata": {},
     "output_type": "execute_result"
    }
   ],
   "source": [
    "df2_by_gender = df2.groupby(\"Gender\")\n",
    "df2_by_gender"
   ]
  },
  {
   "cell_type": "code",
   "execution_count": 35,
   "id": "a112ac1d2fe222b2",
   "metadata": {
    "ExecuteTime": {
     "end_time": "2024-01-19T16:55:03.475702142Z",
     "start_time": "2024-01-19T16:55:03.459479722Z"
    },
    "collapsed": false
   },
   "outputs": [
    {
     "data": {
      "text/plain": [
       "Gender\n",
       "f    30.0\n",
       "m    38.0\n",
       "Name: Age, dtype: float64"
      ]
     },
     "execution_count": 35,
     "metadata": {},
     "output_type": "execute_result"
    }
   ],
   "source": [
    "df2_by_gender[\"Age\"].mean()"
   ]
  }
 ],
 "metadata": {
  "kernelspec": {
   "display_name": "Python 3",
   "language": "python",
   "name": "python3"
  },
  "language_info": {
   "codemirror_mode": {
    "name": "ipython",
    "version": 3
   },
   "file_extension": ".py",
   "mimetype": "text/x-python",
   "name": "python",
   "nbconvert_exporter": "python",
   "pygments_lexer": "ipython3",
   "version": "3.11.7"
  }
 },
 "nbformat": 4,
 "nbformat_minor": 5
}
