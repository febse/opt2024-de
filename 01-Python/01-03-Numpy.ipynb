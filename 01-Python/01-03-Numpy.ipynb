{
 "cells": [
  {
   "cell_type": "markdown",
   "id": "a2fcfe7437c36099",
   "metadata": {
    "collapsed": false
   },
   "source": [
    "## NumPy\n",
    "\n",
    "In der vorherigen Lektion haben wir uns mit Listen beschäftigt. Diese sind sehr flexibel, aber auch sehr langsam. Mit kleinen Listen werden wir das nicht merken, aber wenn wir mit großen Datenmengen arbeiten, dann кönnen lange Laufzeiten zum Problem werden. \n",
    "\n",
    "NumPy (Numerical Python) ist ein Paket, das viele Funktionen enthält, die wir für die Arbeit mit großen Datenmengen geeignet sind."
   ]
  },
  {
   "cell_type": "code",
   "execution_count": 37,
   "id": "initial_id",
   "metadata": {
    "ExecuteTime": {
     "end_time": "2024-01-19T16:29:54.349176183Z",
     "start_time": "2024-01-19T16:29:54.339771398Z"
    },
    "collapsed": true
   },
   "outputs": [],
   "source": [
    "import numpy as np\n",
    "from time import process_time"
   ]
  },
  {
   "cell_type": "code",
   "execution_count": 38,
   "id": "9a68cec80ed53375",
   "metadata": {
    "ExecuteTime": {
     "end_time": "2024-01-19T16:29:55.958053740Z",
     "start_time": "2024-01-19T16:29:55.915456071Z"
    },
    "collapsed": false
   },
   "outputs": [],
   "source": [
    "# Wir können eine Liste in ein NumPy-Array umwandeln\n",
    "python_list = range(int(1e6))\n",
    "numpy_array = np.array(python_list)"
   ]
  },
  {
   "cell_type": "code",
   "execution_count": 39,
   "id": "7abbacb502c3ffa4",
   "metadata": {
    "ExecuteTime": {
     "end_time": "2024-01-19T16:29:58.245510074Z",
     "start_time": "2024-01-19T16:29:57.533901745Z"
    },
    "collapsed": false
   },
   "outputs": [
    {
     "data": {
      "text/plain": [
       "0.03355"
      ]
     },
     "execution_count": 39,
     "metadata": {},
     "output_type": "execute_result"
    }
   ],
   "source": [
    "start_zeit = process_time()\n",
    "\n",
    "a_list_plus_2 = [i + 2 for i in python_list]\n",
    "\n",
    "end_zeit = process_time()\n",
    "round(end_zeit - start_zeit, 5)"
   ]
  },
  {
   "cell_type": "code",
   "execution_count": 40,
   "id": "6daef4bf6d2b5ab8",
   "metadata": {
    "ExecuteTime": {
     "end_time": "2024-01-19T16:30:00.767921523Z",
     "start_time": "2024-01-19T16:30:00.735087638Z"
    },
    "collapsed": false
   },
   "outputs": [
    {
     "data": {
      "text/plain": [
       "0.0017"
      ]
     },
     "execution_count": 40,
     "metadata": {},
     "output_type": "execute_result"
    }
   ],
   "source": [
    "start_zeit_1 = process_time()\n",
    "\n",
    "a_array_plus_2 = numpy_array + 2\n",
    "\n",
    "end_zeit_1 = process_time()\n",
    "round(end_zeit_1 - start_zeit_1, 5)"
   ]
  },
  {
   "cell_type": "code",
   "execution_count": 41,
   "id": "41c5c07e9de7bd4",
   "metadata": {
    "ExecuteTime": {
     "end_time": "2024-01-19T16:33:02.667922877Z",
     "start_time": "2024-01-19T16:33:02.635396512Z"
    },
    "collapsed": false
   },
   "outputs": [
    {
     "data": {
      "text/plain": [
       "array([1., 1., 1., 1.])"
      ]
     },
     "execution_count": 41,
     "metadata": {},
     "output_type": "execute_result"
    }
   ],
   "source": [
    "x = np.array([2, 7, 5, 2])\n",
    "y = np.ones(4)\n",
    "y"
   ]
  },
  {
   "cell_type": "markdown",
   "id": "4975406de5b95984",
   "metadata": {
    "collapsed": false
   },
   "source": [
    "NumPy-Arrays sind sehr ähnlich zu Listen, aber sie haben einige zusätzliche Eigenschaften. Zum Beispiel können wir mit NumPy-Arrays rechnen. Wenn wir zwei NumPy-Arrays addieren, dann werden die Elemente an der gleichen Stelle addiert. Diese Syntax ist sehr intuitiv und einfach zu lesen.\n"
   ]
  },
  {
   "cell_type": "code",
   "execution_count": 42,
   "id": "103508432468940a",
   "metadata": {
    "ExecuteTime": {
     "end_time": "2024-01-19T16:33:08.850239308Z",
     "start_time": "2024-01-19T16:33:08.840508861Z"
    },
    "collapsed": false
   },
   "outputs": [
    {
     "data": {
      "text/plain": [
       "array([3, 8, 6, 3])"
      ]
     },
     "execution_count": 42,
     "metadata": {},
     "output_type": "execute_result"
    }
   ],
   "source": [
    "z1 = x + 1 \n",
    "z2 = x + y\n",
    "z1"
   ]
  },
  {
   "cell_type": "code",
   "execution_count": 43,
   "id": "4a78461f96d415cb",
   "metadata": {
    "ExecuteTime": {
     "end_time": "2024-01-19T16:33:11.038533803Z",
     "start_time": "2024-01-19T16:33:11.032833822Z"
    },
    "collapsed": false
   },
   "outputs": [
    {
     "data": {
      "text/plain": [
       "array([3., 8., 6., 3.])"
      ]
     },
     "execution_count": 43,
     "metadata": {},
     "output_type": "execute_result"
    }
   ],
   "source": [
    "z2"
   ]
  },
  {
   "cell_type": "markdown",
   "id": "682519be24526ac3",
   "metadata": {
    "collapsed": false
   },
   "source": [
    "Dasselbe funktioniert mit Python-Listen nicht. Wenn wir zwei Listen addieren, dann werden die Elemente an der gleichen Stelle nicht addiert, sondern die Listen werden aneinander gehängt."
   ]
  },
  {
   "cell_type": "markdown",
   "id": "e9d9442aa9dac5d0",
   "metadata": {
    "collapsed": false
   },
   "source": []
  },
  {
   "cell_type": "code",
   "execution_count": 44,
   "id": "8238f77bff4e06d8",
   "metadata": {
    "ExecuteTime": {
     "end_time": "2024-01-19T16:33:29.091072754Z",
     "start_time": "2024-01-19T16:33:29.041344389Z"
    },
    "collapsed": false
   },
   "outputs": [
    {
     "data": {
      "text/plain": [
       "[2, 7, 5, 2, 1, 1, 1, 1]"
      ]
     },
     "execution_count": 44,
     "metadata": {},
     "output_type": "execute_result"
    }
   ],
   "source": [
    "x_list = [2, 7, 5, 2]\n",
    "y_list = [1, 1, 1, 1]\n",
    "x_plus_y_list = x_list + y_list\n",
    "x_plus_y_list"
   ]
  },
  {
   "cell_type": "code",
   "execution_count": 45,
   "id": "ca93c52ab1e9beb5",
   "metadata": {
    "ExecuteTime": {
     "end_time": "2024-01-19T16:33:44.680301381Z",
     "start_time": "2024-01-19T16:33:44.606103755Z"
    },
    "collapsed": false
   },
   "outputs": [
    {
     "ename": "TypeError",
     "evalue": "can only concatenate list (not \"int\") to list",
     "output_type": "error",
     "traceback": [
      "\u001b[0;31m---------------------------------------------------------------------------\u001b[0m",
      "\u001b[0;31mTypeError\u001b[0m                                 Traceback (most recent call last)",
      "Cell \u001b[0;32mIn[45], line 1\u001b[0m\n\u001b[0;32m----> 1\u001b[0m x_list \u001b[38;5;241m+\u001b[39m \u001b[38;5;241m1\u001b[39m\n",
      "\u001b[0;31mTypeError\u001b[0m: can only concatenate list (not \"int\") to list"
     ]
    }
   ],
   "source": [
    "x_list + 1"
   ]
  },
  {
   "cell_type": "markdown",
   "id": "3f6fd544341a8c97",
   "metadata": {
    "collapsed": false
   },
   "source": [
    "NumPy-Arrays haben auch einige Methoden, die wir mit Listen nicht haben. Zum Beispiel können wir die Summe aller Elemente eines Arrays berechnen."
   ]
  },
  {
   "cell_type": "code",
   "execution_count": null,
   "id": "b4f1c863d071be31",
   "metadata": {
    "ExecuteTime": {
     "end_time": "2024-01-19T16:34:16.462615208Z",
     "start_time": "2024-01-19T16:34:16.415193125Z"
    },
    "collapsed": false
   },
   "outputs": [
    {
     "data": {
      "text/plain": [
       "16"
      ]
     },
     "execution_count": 20,
     "metadata": {},
     "output_type": "execute_result"
    }
   ],
   "source": [
    "# Summe der Elemente\n",
    "x.sum()"
   ]
  },
  {
   "cell_type": "code",
   "execution_count": null,
   "id": "9fd27821a15fa09c",
   "metadata": {
    "ExecuteTime": {
     "end_time": "2024-01-19T16:34:23.758686996Z",
     "start_time": "2024-01-19T16:34:23.749056123Z"
    },
    "collapsed": false
   },
   "outputs": [
    {
     "data": {
      "text/plain": [
       "4.0"
      ]
     },
     "execution_count": 21,
     "metadata": {},
     "output_type": "execute_result"
    }
   ],
   "source": [
    "# Durchschnitt der Elemente (Arithmetischer Mittelwert)\n",
    "\n",
    "x.mean()"
   ]
  },
  {
   "cell_type": "code",
   "execution_count": null,
   "id": "690eace8cca0f0e3",
   "metadata": {
    "ExecuteTime": {
     "end_time": "2024-01-19T16:34:28.778738929Z",
     "start_time": "2024-01-19T16:34:28.735085968Z"
    },
    "collapsed": false
   },
   "outputs": [
    {
     "data": {
      "text/plain": [
       "2.1213203435596424"
      ]
     },
     "execution_count": 22,
     "metadata": {},
     "output_type": "execute_result"
    }
   ],
   "source": [
    "# Standardabweichung\n",
    "x.std()"
   ]
  },
  {
   "cell_type": "code",
   "execution_count": null,
   "id": "9f04389c844c5d0b",
   "metadata": {
    "ExecuteTime": {
     "end_time": "2024-01-19T16:35:48.306704045Z",
     "start_time": "2024-01-19T16:35:48.262077443Z"
    },
    "collapsed": false
   },
   "outputs": [
    {
     "data": {
      "text/plain": [
       "2"
      ]
     },
     "execution_count": 23,
     "metadata": {},
     "output_type": "execute_result"
    }
   ],
   "source": [
    "# Minimum\n",
    "x.min()"
   ]
  },
  {
   "cell_type": "code",
   "execution_count": null,
   "id": "c0a15217f08e2c38",
   "metadata": {
    "collapsed": false
   },
   "outputs": [],
   "source": [
    "# Maximum\n",
    "x.max()"
   ]
  },
  {
   "cell_type": "code",
   "execution_count": null,
   "id": "686a7d13caab9e30",
   "metadata": {
    "ExecuteTime": {
     "end_time": "2024-01-19T16:35:55.738423504Z",
     "start_time": "2024-01-19T16:35:55.692970343Z"
    },
    "collapsed": false
   },
   "outputs": [
    {
     "data": {
      "text/plain": [
       "0"
      ]
     },
     "execution_count": 23,
     "metadata": {},
     "output_type": "execute_result"
    }
   ],
   "source": [
    "# Der Index des Minimums\n",
    "x.argmin()"
   ]
  },
  {
   "cell_type": "code",
   "execution_count": null,
   "id": "c73cc98f94f76d61",
   "metadata": {
    "ExecuteTime": {
     "end_time": "2024-01-19T16:35:59.946077017Z",
     "start_time": "2024-01-19T16:35:59.923555482Z"
    },
    "collapsed": false
   },
   "outputs": [
    {
     "data": {
      "text/plain": [
       "1"
      ]
     },
     "execution_count": 24,
     "metadata": {},
     "output_type": "execute_result"
    }
   ],
   "source": [
    "# Der Index des Maximums\n",
    "x.argmax()"
   ]
  },
  {
   "cell_type": "markdown",
   "id": "28a5cb77a5fcf9bc",
   "metadata": {
    "collapsed": false
   },
   "source": [
    "### Slicing\n",
    "\n",
    "Wir können auch auf die Elemente eines Arrays zugreifen, indem wir einen Index angeben. Der Index beginnt bei 0."
   ]
  },
  {
   "cell_type": "code",
   "execution_count": null,
   "id": "439bd3c7",
   "metadata": {},
   "outputs": [],
   "source": [
    "z = np.array([\"a\", \"b\", \"c\", \"d\", \"e\"])"
   ]
  },
  {
   "cell_type": "code",
   "execution_count": null,
   "id": "72e5f25f2eb01a2",
   "metadata": {
    "ExecuteTime": {
     "end_time": "2024-01-19T16:36:43.266713224Z",
     "start_time": "2024-01-19T16:36:43.260188393Z"
    },
    "collapsed": false
   },
   "outputs": [
    {
     "data": {
      "text/plain": [
       "2"
      ]
     },
     "execution_count": 25,
     "metadata": {},
     "output_type": "execute_result"
    }
   ],
   "source": [
    "# Das erste Element\n",
    "z[0]"
   ]
  },
  {
   "cell_type": "code",
   "execution_count": null,
   "id": "d3296f86a9e55029",
   "metadata": {
    "ExecuteTime": {
     "end_time": "2024-01-19T16:36:51.782503290Z",
     "start_time": "2024-01-19T16:36:51.776577486Z"
    },
    "collapsed": false
   },
   "outputs": [
    {
     "data": {
      "text/plain": [
       "array([2, 7])"
      ]
     },
     "execution_count": 33,
     "metadata": {},
     "output_type": "execute_result"
    }
   ],
   "source": [
    "# Alle Elemente bis zur Indexposition 2 (exklusive)\n",
    "# Achten Sie darauf, dass der Index 0-basiert ist und daher das dritte Element ist eine Indexposition 2 hat\n",
    "z[:2]"
   ]
  },
  {
   "cell_type": "code",
   "execution_count": null,
   "id": "1bfeee24cf7bd00d",
   "metadata": {
    "ExecuteTime": {
     "end_time": "2024-01-19T16:37:17.679613708Z",
     "start_time": "2024-01-19T16:37:17.631610036Z"
    },
    "collapsed": false
   },
   "outputs": [
    {
     "data": {
      "text/plain": [
       "array([7, 5, 2])"
      ]
     },
     "execution_count": 29,
     "metadata": {},
     "output_type": "execute_result"
    }
   ],
   "source": [
    "z[-3]"
   ]
  },
  {
   "cell_type": "code",
   "execution_count": null,
   "id": "3ccb0f83eb72615c",
   "metadata": {
    "ExecuteTime": {
     "end_time": "2024-01-19T16:37:30.907200360Z",
     "start_time": "2024-01-19T16:37:30.851992922Z"
    },
    "collapsed": false
   },
   "outputs": [
    {
     "data": {
      "text/plain": [
       "array([7, 5, 2])"
      ]
     },
     "execution_count": 35,
     "metadata": {},
     "output_type": "execute_result"
    }
   ],
   "source": [
    "z[-3:]"
   ]
  },
  {
   "cell_type": "code",
   "execution_count": null,
   "id": "5b7fe6cc241f2a08",
   "metadata": {
    "ExecuteTime": {
     "end_time": "2024-01-19T16:37:35.356379796Z",
     "start_time": "2024-01-19T16:37:35.348763718Z"
    },
    "collapsed": false
   },
   "outputs": [
    {
     "data": {
      "text/plain": [
       "array([7, 5])"
      ]
     },
     "execution_count": 31,
     "metadata": {},
     "output_type": "execute_result"
    }
   ],
   "source": [
    "z[1:3]"
   ]
  },
  {
   "cell_type": "code",
   "execution_count": null,
   "id": "42a909040be2b299",
   "metadata": {
    "ExecuteTime": {
     "end_time": "2024-01-19T16:37:41.720021982Z",
     "start_time": "2024-01-19T16:37:41.715397012Z"
    },
    "collapsed": false
   },
   "outputs": [
    {
     "data": {
      "text/plain": [
       "array([2, 5])"
      ]
     },
     "execution_count": 32,
     "metadata": {},
     "output_type": "execute_result"
    }
   ],
   "source": [
    "z[::2]"
   ]
  },
  {
   "cell_type": "code",
   "execution_count": null,
   "id": "3fec08723e2bd67e",
   "metadata": {
    "ExecuteTime": {
     "end_time": "2024-01-19T16:37:46.345871775Z",
     "start_time": "2024-01-19T16:37:46.338597679Z"
    },
    "collapsed": false
   },
   "outputs": [
    {
     "data": {
      "text/plain": [
       "array([2, 5, 7, 2])"
      ]
     },
     "execution_count": 33,
     "metadata": {},
     "output_type": "execute_result"
    }
   ],
   "source": [
    "z[::-1]"
   ]
  },
  {
   "cell_type": "markdown",
   "id": "345826d1",
   "metadata": {},
   "source": [
    "### Arrays und Listen Zuweisung\n",
    "\n",
    "Eine zugängige Erläuterung, wie Werte im Speicher des Rechners gespeichert werden, finden Sie in [hier](https://mvschamanth.medium.com/inside-python-are-variables-memory-references-a7522808be93)."
   ]
  },
  {
   "cell_type": "code",
   "execution_count": 46,
   "id": "85f9e88bc0569a4d",
   "metadata": {
    "ExecuteTime": {
     "end_time": "2024-01-19T16:37:55.010524431Z",
     "start_time": "2024-01-19T16:37:55.002336505Z"
    },
    "collapsed": false
   },
   "outputs": [
    {
     "data": {
      "text/plain": [
       "array(['a', 'x', 'c', 'd', 'e'], dtype='<U1')"
      ]
     },
     "execution_count": 46,
     "metadata": {},
     "output_type": "execute_result"
    }
   ],
   "source": [
    "z[1] = \"x\"\n",
    "z"
   ]
  },
  {
   "cell_type": "code",
   "execution_count": 47,
   "id": "b9cbe174",
   "metadata": {},
   "outputs": [],
   "source": [
    "z1 = z"
   ]
  },
  {
   "cell_type": "code",
   "execution_count": 48,
   "id": "07a6f3ea",
   "metadata": {},
   "outputs": [],
   "source": [
    "z[0] = \"X\""
   ]
  },
  {
   "cell_type": "code",
   "execution_count": 49,
   "id": "b71acf77",
   "metadata": {},
   "outputs": [
    {
     "data": {
      "text/plain": [
       "array(['X', 'x', 'c', 'd', 'e'], dtype='<U1')"
      ]
     },
     "execution_count": 49,
     "metadata": {},
     "output_type": "execute_result"
    }
   ],
   "source": [
    "z1"
   ]
  },
  {
   "cell_type": "code",
   "execution_count": 50,
   "id": "1196a576",
   "metadata": {},
   "outputs": [
    {
     "data": {
      "text/plain": [
       "array([ True,  True,  True,  True,  True])"
      ]
     },
     "execution_count": 50,
     "metadata": {},
     "output_type": "execute_result"
    }
   ],
   "source": [
    "z1 == z"
   ]
  },
  {
   "cell_type": "code",
   "execution_count": 51,
   "id": "cc97c091",
   "metadata": {},
   "outputs": [
    {
     "name": "stdout",
     "output_type": "stream",
     "text": [
      "139824494266384\n",
      "139824494266384\n"
     ]
    }
   ],
   "source": [
    "print(id(z1))\n",
    "print(id(z))"
   ]
  },
  {
   "cell_type": "code",
   "execution_count": 52,
   "id": "b9e1d154",
   "metadata": {},
   "outputs": [
    {
     "name": "stdout",
     "output_type": "stream",
     "text": [
      "139824456337984\n",
      "139824456337984\n"
     ]
    }
   ],
   "source": [
    "l1 = [1, 2, 3]\n",
    "l2 = l1\n",
    "\n",
    "print(id(l1))\n",
    "print(id(l2))"
   ]
  },
  {
   "cell_type": "code",
   "execution_count": 54,
   "id": "1b009755",
   "metadata": {},
   "outputs": [
    {
     "name": "stdout",
     "output_type": "stream",
     "text": [
      "139824494250288\n",
      "139824494250288\n"
     ]
    },
    {
     "ename": "TypeError",
     "evalue": "'str' object does not support item assignment",
     "output_type": "error",
     "traceback": [
      "\u001b[0;31m---------------------------------------------------------------------------\u001b[0m",
      "\u001b[0;31mTypeError\u001b[0m                                 Traceback (most recent call last)",
      "Cell \u001b[0;32mIn[54], line 7\u001b[0m\n\u001b[1;32m      4\u001b[0m \u001b[38;5;28mprint\u001b[39m(\u001b[38;5;28mid\u001b[39m(s1))\n\u001b[1;32m      5\u001b[0m \u001b[38;5;28mprint\u001b[39m(\u001b[38;5;28mid\u001b[39m(s2))\n\u001b[0;32m----> 7\u001b[0m s1[\u001b[38;5;241m0\u001b[39m] \u001b[38;5;241m=\u001b[39m \u001b[38;5;124m\"\u001b[39m\u001b[38;5;124mX\u001b[39m\u001b[38;5;124m\"\u001b[39m\n",
      "\u001b[0;31mTypeError\u001b[0m: 'str' object does not support item assignment"
     ]
    }
   ],
   "source": [
    "s1 = \"Some string\"\n",
    "s2 = s1\n",
    "\n",
    "print(id(s1))\n",
    "print(id(s2))\n",
    "\n",
    "s1[0] = \"X\""
   ]
  }
 ],
 "metadata": {
  "kernelspec": {
   "display_name": "Python 3",
   "language": "python",
   "name": "python3"
  },
  "language_info": {
   "codemirror_mode": {
    "name": "ipython",
    "version": 3
   },
   "file_extension": ".py",
   "mimetype": "text/x-python",
   "name": "python",
   "nbconvert_exporter": "python",
   "pygments_lexer": "ipython3",
   "version": "3.11.7"
  }
 },
 "nbformat": 4,
 "nbformat_minor": 5
}
