{
 "cells": [
  {
   "cell_type": "markdown",
   "metadata": {},
   "source": [
    "# Das Burrito-Optimierungs-Spiel\n",
    "\n",
    "[https://www.gurobi.com/burrito-optimization-game/](https://www.gurobi.com/burrito-optimization-game/)"
   ]
  }
 ],
 "metadata": {
  "language_info": {
   "name": "python"
  }
 },
 "nbformat": 4,
 "nbformat_minor": 2
}
