{
 "cells": [
  {
   "cell_type": "markdown",
   "metadata": {},
   "source": [
    "# Python Basics"
   ]
  },
  {
   "cell_type": "markdown",
   "metadata": {},
   "source": [
    "## Datentypen und Datencontainer\n"
   ]
  },
  {
   "cell_type": "code",
   "execution_count": null,
   "metadata": {},
   "outputs": [],
   "source": [
    "%pip install -q otter-grader\n",
    "\n",
    "import pandas as pd\n",
    "import numpy as np\n",
    "%matplotlib inline\n",
    "import otter\n",
    "grader = otter.Notebook()"
   ]
  },
  {
   "cell_type": "markdown",
   "metadata": {
    "deletable": false,
    "editable": false
   },
   "source": [
    "**Aufgabe 1:** Erstellen Sie zwei Variablen `income_person1` und `income_person2` und weisen Sie ihnen die Werte 100 und 80 zu."
   ]
  },
  {
   "cell_type": "code",
   "execution_count": null,
   "metadata": {
    "tags": []
   },
   "outputs": [],
   "source": [
    "income_person1 = 100\n",
    "income_person2 = ..."
   ]
  },
  {
   "cell_type": "code",
   "execution_count": null,
   "metadata": {
    "deletable": false,
    "editable": false
   },
   "outputs": [],
   "source": [
    "grader.check(\"q1\")"
   ]
  },
  {
   "cell_type": "markdown",
   "metadata": {
    "deletable": false,
    "editable": false
   },
   "source": [
    "**Aufgabe 2:** Im Folgenden werden zwei Variablen `a` und `b` definiert. Berechnen Sie den Mittelwert der beiden Variablen und speichern Sie das Ergebnis in der Variable `mean_ab`. Benutzen Sie dabei nur Addition (`+`) und Division (`/`)."
   ]
  },
  {
   "cell_type": "code",
   "execution_count": null,
   "metadata": {
    "tags": []
   },
   "outputs": [],
   "source": [
    "a = 123\n",
    "b = 55\n",
    "\n",
    "mean_ab = ...\n",
    "mean_ab"
   ]
  },
  {
   "cell_type": "code",
   "execution_count": null,
   "metadata": {
    "deletable": false,
    "editable": false
   },
   "outputs": [],
   "source": [
    "grader.check(\"q2\")"
   ]
  },
  {
   "cell_type": "markdown",
   "metadata": {
    "deletable": false,
    "editable": false
   },
   "source": [
    "**Aufgabe 3:** Wie viel ist 3.12 hoch 8? Berechnen Sie das Ergebnis und speichern Sie es in der Variable `result`."
   ]
  },
  {
   "cell_type": "code",
   "execution_count": null,
   "metadata": {
    "tags": []
   },
   "outputs": [],
   "source": [
    "result = ...\n",
    "result"
   ]
  },
  {
   "cell_type": "code",
   "execution_count": null,
   "metadata": {
    "deletable": false,
    "editable": false
   },
   "outputs": [],
   "source": [
    "grader.check(\"q3\")"
   ]
  },
  {
   "cell_type": "markdown",
   "metadata": {
    "deletable": false,
    "editable": false
   },
   "source": [
    "**Aufgabe 4:** Speichern Sie die Zeichenkette \"Jane Doe Junior\" in der Variable `person_name`."
   ]
  },
  {
   "cell_type": "code",
   "execution_count": null,
   "metadata": {
    "tags": []
   },
   "outputs": [],
   "source": [
    "person_name = ...\n",
    "person_name"
   ]
  },
  {
   "cell_type": "code",
   "execution_count": null,
   "metadata": {
    "deletable": false,
    "editable": false
   },
   "outputs": [],
   "source": [
    "grader.check(\"q4\")"
   ]
  },
  {
   "cell_type": "markdown",
   "metadata": {
    "deletable": false,
    "editable": false
   },
   "source": [
    "**Aufgabe 5:** Wie viele Zeichen hat die Zeichenkette in der Variable `person_name`? Speichern Sie das Ergebnis in der Variable `name_length`. Benutzen Sie dazu die Funktion `len()`. Als Beispiel: `len(\"Hallo\")` gibt 5 zurück."
   ]
  },
  {
   "cell_type": "code",
   "execution_count": null,
   "metadata": {
    "tags": []
   },
   "outputs": [],
   "source": [
    "name_length = ..."
   ]
  },
  {
   "cell_type": "code",
   "execution_count": null,
   "metadata": {
    "deletable": false,
    "editable": false
   },
   "outputs": [],
   "source": [
    "grader.check(\"q5\")"
   ]
  },
  {
   "cell_type": "markdown",
   "metadata": {
    "deletable": false,
    "editable": false
   },
   "source": [
    "** Aufgabe 6 **: Erstellen Sie eine Liste mit den Zahlen 112.3, 302.7, 400.0, und 100.23. Speichern Sie diese\n",
    "in einer Variable `gas_bills_usd`.\n",
    "\n",
    "**Hinweis**: Eine Liste können Sie mit eckigen Klammern `[]` erstellen, y.B. `my_list = [1, 2, 3]`.\n",
    "\n",
    "Erstellen Sie dann eine leere Liste `gas_bills_eur` und fügen Sie die Werte aus \n",
    "`gas_bills_usd` in Euro umgerechnet hinzu. Der Umrechnungskurs sei 0.85 USD für 1 EUR.\n",
    "\n",
    "**Hinweis**: Sie können Werte zu einer Liste mit der Methode `append` hinzufügen, y.B. `my_list.append(4)`.\n",
    "\n",
    "```python\n",
    "empty_list = []\n",
    "for element in another_list:\n",
    "    empty_list.append(element)\n",
    "```"
   ]
  },
  {
   "cell_type": "code",
   "execution_count": null,
   "metadata": {
    "tags": []
   },
   "outputs": [],
   "source": [
    "gas_bills_usd = []\n",
    "\n",
    "gas_bills_eur = []\n",
    "for bill in gas_bills_usd:\n",
    "    gas_bills_eur.append(...)\n",
    "gas_bills_eur"
   ]
  },
  {
   "cell_type": "code",
   "execution_count": null,
   "metadata": {
    "deletable": false,
    "editable": false
   },
   "outputs": [],
   "source": [
    "grader.check(\"q6\")"
   ]
  },
  {
   "cell_type": "markdown",
   "metadata": {
    "deletable": false,
    "editable": false
   },
   "source": [
    "** Aufgabe 7 **: In dieser Aufgabe bearbeiten Sie eine Liste von Nutzungszeiten von Cloud-Computing-Ressourcen. Die Liste `usage` enthält die Nutzungszeiten in Minuten. Wir möchten die Nutzungszeiten, die über ein Limit von 50 Stunden hinausgehen in einer neuen Liste `usage_limit_exceeded` speichern. Benutzen Sie dazu eine List-Komprehension. In dem Beispiel unten wird die Liste `list2` aus den Elementen von `list1` erstellt, die größer als 2 sind.\n",
    "\n",
    "```python\n",
    "list1 = [1, 2, 5, 2]\n",
    "list2 = [element for element in list1 if element > 2]\n",
    "```"
   ]
  },
  {
   "cell_type": "code",
   "execution_count": null,
   "metadata": {
    "tags": []
   },
   "outputs": [],
   "source": [
    "usage = [4839, 2394, 5839, 2394, 802, 904]\n",
    "usage_limit_exceeded = [minutes for ... in usage if ...]\n"
   ]
  },
  {
   "cell_type": "code",
   "execution_count": null,
   "metadata": {
    "deletable": false,
    "editable": false
   },
   "outputs": [],
   "source": [
    "grader.check(\"q7\")"
   ]
  },
  {
   "cell_type": "markdown",
   "metadata": {
    "deletable": false,
    "editable": false
   },
   "source": [
    "** Aufgabe 8 **: In dieser Aufgabe bearbeiten wir eine Liste von Überlebenszeiten von elektrischen Glühbirnen. Die Liste `bulb_survival` enthält die Überlebenszeiten in 1000 Stunden. Wir haben festgestellt, daß die gemessenen Zeiten die tatsächlichen Überlebenszeiten um 10% überschätzen. Erstellen Sie eine neue Liste `bulb_survival_corrected` mit den korrigierten Überlebenszeiten. Benutzen Sie dazu eine List-Komprehension.\n",
    "\n",
    "```python"
   ]
  },
  {
   "cell_type": "code",
   "execution_count": null,
   "metadata": {
    "tags": []
   },
   "outputs": [],
   "source": [
    "bulb_survival = [25.2, 30.1, 35.2, 40.3, 45.2]\n",
    "bulb_survival_corrected = [survival * ... for survival in ...]"
   ]
  },
  {
   "cell_type": "code",
   "execution_count": null,
   "metadata": {
    "deletable": false,
    "editable": false
   },
   "outputs": [],
   "source": [
    "grader.check(\"q8\")"
   ]
  },
  {
   "cell_type": "markdown",
   "metadata": {
    "deletable": false,
    "editable": false
   },
   "source": [
    "** Aufgabe 9 **: In dieser Aufgabe bearbeiten wir wieder eine Liste von Überlebenszeiten von elektrischen Glühbirnen. Die Liste `bulb_survival1` enthält die Überlebenszeiten in 1000 Stunden. Wir haben festgestellt, dass die tatsächliche Messung\n",
    "für die zweite Glühbirne war fehlerhaft war. Die tatsächliche Überlebenszeit war 1200 Stunden. Ändern Sie die Liste `bulb_survival1` so, dass die zweite Überlebenszeit korrigiert wird.\n",
    "\n",
    "**Hinweis**: Sie können den Wert eines Elements in einer Liste mit `my_list[index]` ändern.\n",
    "\n",
    "In der Liste list1 unten wird das erste Element auf 100 gesetzt:\n",
    "\n",
    "```python\n",
    "list1 = [1, 2, 5, 2]\n",
    "list1[0] = 100\n",
    "```"
   ]
  },
  {
   "cell_type": "code",
   "execution_count": null,
   "metadata": {
    "tags": []
   },
   "outputs": [],
   "source": [
    "\n",
    "bulb_survival1 = [25.2, 30.1, 35.2, 40.3, 45.2]\n",
    "bulb_survival1[...] = ..."
   ]
  },
  {
   "cell_type": "code",
   "execution_count": null,
   "metadata": {
    "deletable": false,
    "editable": false
   },
   "outputs": [],
   "source": [
    "grader.check(\"q9\")"
   ]
  },
  {
   "cell_type": "markdown",
   "metadata": {
    "deletable": false,
    "editable": false
   },
   "source": [
    "**Aufgabe 10**: In dieser Aufgabe haben aus unserer Kundendatenbank die Daten einer Person heruntergeladen und in einer Dictionary `best_customer` mit Schlüsseln\n",
    " `name`, `age`, `city`, und `total_purchases` gespeichert. Wir möchten eine Nachricht an den Kunden senden, in der wir den Namen des Kunden und den Umsatz erwähnen. Erstellen Sie eine Zeichenkette `msg` mit der Nachricht. Benutzen Sie dazu die Werte aus dem Dictionary `best_customer`.\n",
    "\n",
    "**Hinweis**: Sie können auf die Werte eines Dictionarys mit `my_dict[key]` zugreifen.\n",
    "\n",
    "```python\n",
    "my_dict = {\"name\": \"John\", \"age\": 30}\n",
    "print(my_dict[\"name\"]) # gibt \"John\" aus\n",
    "```\n",
    "\n",
    "**Hinweis**: In der formattierten Zeichenkette können Sie Werte mit `{}` einfügen. \n",
    "\n",
    "```python\n",
    "name = \"John\"\n",
    "age = 30\n",
    "msg = f\"Name: {name}, Age: {age}\"\n",
    "print(msg) # gibt \"Name: John, Age: 30\" aus\n",
    "```\n",
    "\n",
    "**Hinweis**: In der formattierten Zeichenkette können Sie auch auf die Werte eines Dictionarys zugreifen.\n",
    "\n",
    "```python\n",
    "my_dict = {\"name\": \"John\", \"age\": 30}\n",
    "msg = f\"Name: {my_dict['name']}, Age: {my_dict['age']}\"\n",
    "print(msg) # gibt \"Name: John, Age: 30\" aus\n",
    "```\n",
    "\n",
    "Achten Sie darauf, dass die Anführungszeichen in der formattierten Zeichenkette korrekt gesetzt sind: benutzen Sie `'`, um die Schlüssel des Dictionarys zu umschließen, und `\"` für die formattierte Zeichenkette."
   ]
  },
  {
   "cell_type": "code",
   "execution_count": null,
   "metadata": {
    "tags": []
   },
   "outputs": [],
   "source": [
    "best_customer = {\n",
    "    \"name\": \"Phillip Jones\",\n",
    "    \"age\": 35,\n",
    "    \"total_purchases\": 30010.5\n",
    "}\n",
    "msg = f\"Dear {...}, your total purchases amount to {...} EUR.\""
   ]
  },
  {
   "cell_type": "code",
   "execution_count": null,
   "metadata": {
    "deletable": false,
    "editable": false
   },
   "outputs": [],
   "source": [
    "grader.check(\"q10\")"
   ]
  },
  {
   "cell_type": "markdown",
   "metadata": {
    "deletable": false,
    "editable": false
   },
   "source": [
    "**Aufgabe 11**: Erstellen Sie ein Dictionary `customer` mit den Schlüsseln `first_name`, `last_name`, `city`, `session_durations` und den Werten \"Jane Doe\", 30, \"New York\", [2.4, 8.1, 2.2]. Under `session_durations` haben wir die Dauer der letzten drei Sitzungen (z.B. Softwarenutzung) in Stunden gespeichert.\n",
    "\n",
    "Setzen Sie die Dauer der letzten Sitzung auf 0 Stunden.\n",
    "\n",
    "**Hinweis**: Sie können den Wert eines Elements in einer Liste mit `my_list[index]` ändern.\n",
    "\n",
    "In der Liste list1 unten wird das erste Element auf 100 gesetzt:\n",
    "\n",
    "```python\n",
    "list1 = [1, 2, 5, 2]\n",
    "# Wird das erste Element auf 100 setzen\n",
    "list1[0] = 100\n",
    "```\n",
    "\n",
    "Falls die Liste unter einem Schlüssel in einem Dictionary gespeichert ist, können Sie auf die Liste mit `my_dict[key]` zugreifen.\n",
    "\n",
    "```python\n",
    "my_dict = {\"name\": \"John\", \"age\": 30, \"some_list\": [1, 2, 8]}\n",
    "# Wird das erste Element der Liste auf 0 setzen\n",
    "my_dict[\"session_durations\"][0] = 0\n",
    "```\n",
    "\n"
   ]
  },
  {
   "cell_type": "code",
   "execution_count": null,
   "metadata": {
    "tags": []
   },
   "outputs": [],
   "source": [
    "customer = {\n",
    "    \"first_name\": ...,\n",
    "    \"last_name\": ...,\n",
    "    \"city\": ...,\n",
    "    ...\n",
    "}\n",
    "customer[...][...] = 0"
   ]
  },
  {
   "cell_type": "code",
   "execution_count": null,
   "metadata": {
    "deletable": false,
    "editable": false
   },
   "outputs": [],
   "source": [
    "grader.check(\"q11\")"
   ]
  },
  {
   "cell_type": "markdown",
   "metadata": {
    "deletable": false,
    "editable": false
   },
   "source": [
    "**Aufgabe 12**: In dieser Aufgabe werden wir eine Liste aus Dictionarys bearbeiten. Wir können uns vorstellen, dass diese Liste aus einer Datenbankabfrage stammt. Jedes Dictionary in der Liste enthält die Daten eines Kunden. Wir möchten nun eine Schleife verwenden, um eine Liste `customer_names_new_york` mit den Namen der Kunden zu erstellen, die in New York leben.\n",
    "\n",
    "```python\n",
    "\n",
    "```"
   ]
  },
  {
   "cell_type": "code",
   "execution_count": null,
   "metadata": {
    "tags": []
   },
   "outputs": [],
   "source": [
    "customers = [\n",
    "    {\"name\": \"John\", \"age\": 30, \"city\": \"New York\"},\n",
    "    {\"name\": \"Jane\", \"age\": 25, \"city\": \"Los Angeles\"},\n",
    "    {\"name\": \"Tom\", \"age\": 35, \"city\": \"Chicago\"},\n",
    "    {\"name\": \"Tim\", \"age\": 40, \"city\": \"Houston\"},\n",
    "    {\"name\": \"Angelina\", \"age\": 45, \"city\": \"Phoenix\"}\n",
    "    {\"name\": \"Tina\", \"age\": 45, \"city\": \"New York\"}\n",
    "]\n",
    "\n",
    "customers_names_new_york = []\n",
    "\n",
    "for customer in customers:\n",
    "    if ...:\n",
    "        customers_names_new_york.append(...)"
   ]
  },
  {
   "cell_type": "code",
   "execution_count": null,
   "metadata": {
    "deletable": false,
    "editable": false
   },
   "outputs": [],
   "source": [
    "grader.check(\"q12\")"
   ]
  },
  {
   "cell_type": "markdown",
   "metadata": {
    "deletable": false,
    "editable": false
   },
   "source": [
    "**Aufgabe 13**: In dieser Aufgabe werden wir eine Liste aus Listen bearbeiten. Der Sinn der Aufgabe ist es, Ihnen zu zeigen, wie Variablen in Python funktionieren. Die Liste besteht aus drei anderen Listen. Wir möchten nun die erste Liste einer Variablen `first_list` zuweisen. Danach ändern wir das erste Element von `first_list` auf 100. Was passiert mit der ursprünglichen Liste `list_of_lists`?"
   ]
  },
  {
   "cell_type": "code",
   "execution_count": null,
   "metadata": {
    "tags": []
   },
   "outputs": [],
   "source": [
    "list_of_lists = [[1, 2, 3], [4, 5, 6], [7, 8, 9]]\n",
    "first_list = list_of_lists[0]\n",
    "first_list[0] = 100\n",
    "\n",
    "list_of_lists"
   ]
  },
  {
   "cell_type": "markdown",
   "metadata": {
    "deletable": false,
    "editable": false
   },
   "source": [
    "**Aufgabe 13a**: Im folgenden Code wird eine Liste `accounts` mit den Werten 33 und 80 definiert. Weisen Sie diese zwei Werte den Variablen `account1` und `account2` zu, indem Sie die Werte aus der Liste `accounts` entpacken.\n",
    "\n",
    "```python\n",
    "ids = [1, 2, 3]\n",
    "id1, id2, id3 = ids\n",
    "```"
   ]
  },
  {
   "cell_type": "code",
   "execution_count": null,
   "metadata": {
    "tags": []
   },
   "outputs": [],
   "source": [
    "accounts = [33, 80]\n",
    "account1, ... = accounts"
   ]
  },
  {
   "cell_type": "code",
   "execution_count": null,
   "metadata": {
    "deletable": false,
    "editable": false
   },
   "outputs": [],
   "source": [
    "grader.check(\"q13a\")"
   ]
  },
  {
   "cell_type": "markdown",
   "metadata": {},
   "source": [
    "### Tupel\n",
    "\n",
    "Bisher haben wir Listen verwendet, um eine Sammlung von Elementen zu speichern. Eine Liste ist veränderbar, d.h. wir können die Elemente der Liste verändern. Ein Tupel ist eine Sammlung von Elementen, die nicht veränderbar ist. Ein Tupel wird mit runden Klammern `()` erstellt."
   ]
  },
  {
   "cell_type": "code",
   "execution_count": null,
   "metadata": {},
   "outputs": [],
   "source": [
    "my_list = [1, 4]\n",
    "my_tuple = (1, 4)\n",
    "\n",
    "my_list[0] = 100\n",
    "# my_tuple[0] = 100"
   ]
  },
  {
   "cell_type": "markdown",
   "metadata": {},
   "source": [
    "## Funktionen\n",
    "\n",
    "In allen Programmiersprachen sind Funktionen ein wichtiges Konzept. Funktionen sind ein Weg, um Code zu organisieren und zu strukturieren.\n",
    "\n",
    "Als Beispiel betrachten wir die Funktion `add_numbers`. Diese Funktion nimmt zwei Argumente `a` und `b` und gibt die Summe der beiden Argumente zurück.\n",
    "\n",
    "```python\n",
    "def add_numbers(a, b):\n",
    "    return a + b\n",
    "```\n",
    "\n",
    "Um eine Funktion zu definieren, benutzen wir das Schlüsselwort `def`, gefolgt von dem *Namen* der Funktion und den Argumenten in Klammern. Der Funktionskörper ist eingerückt. Die Funktion gibt das Ergebnis mit dem Schlüsselwort `return` zurück.\n",
    "\n",
    "Um die Funktion aufzurufen, benutzen wir den Namen der Funktion gefolgt von den Argumenten in Klammern.\n",
    "\n",
    "```python\n",
    "result = add_numbers(3, 5)\n",
    "print(result) # gibt 8 aus\n",
    "```"
   ]
  },
  {
   "cell_type": "markdown",
   "metadata": {
    "deletable": false,
    "editable": false
   },
   "source": [
    "** Aufgabe 14 **: Erstellen Sie eine Funktion `calculate_mean` die den Mittelwert von zwei Zahlen berechnet. Die Funktion soll zwei Argumente `a` und `b` haben und den Mittelwert der beiden Argumente zurückgeben.\n",
    "\n",
    "Der Mittelwert von zwei Zahlen ist die Summe der beiden Zahlen geteilt durch 2.\n",
    "$$\n",
    "\\text{mean} = \\frac{a + b}{2}\n",
    "$$\n"
   ]
  },
  {
   "cell_type": "code",
   "execution_count": null,
   "metadata": {
    "tags": []
   },
   "outputs": [],
   "source": [
    "def calculate_mean(a, ...):\n",
    "    return ..."
   ]
  },
  {
   "cell_type": "code",
   "execution_count": null,
   "metadata": {
    "deletable": false,
    "editable": false
   },
   "outputs": [],
   "source": [
    "grader.check(\"q14\")"
   ]
  },
  {
   "cell_type": "markdown",
   "metadata": {
    "deletable": false,
    "editable": false
   },
   "source": [
    "**Aufgabe 15**: In der vorherigen Aufgabe haben wir die Funktion `calculate_mean` erstellt. In dieser Aufgabe möchten wir die Funktion erweitern, so dass sie den Mittelwert von beliebig vielen Zahlen berechnen kann. Die Funktion soll eine Liste von Zahlen als Argument nehmen und den Mittelwert der Zahlen zurückgeben. Benutzen Sie dazu die Funktion `sum` und die Funktion `len`."
   ]
  },
  {
   "cell_type": "code",
   "execution_count": null,
   "metadata": {
    "tags": []
   },
   "outputs": [],
   "source": [
    "def calculate_mean_list(...):\n",
    "    return sum(...) / ..."
   ]
  },
  {
   "cell_type": "code",
   "execution_count": null,
   "metadata": {
    "deletable": false,
    "editable": false
   },
   "outputs": [],
   "source": [
    "grader.check(\"q15\")"
   ]
  },
  {
   "cell_type": "markdown",
   "metadata": {
    "deletable": false,
    "editable": false
   },
   "source": [
    "**Aufgabe 16**: In dieser Aufgabe möchten wir eine Funktion `average_word_length` definieren. Die Funktion soll eine Zeichenkette als Argument nehmen und die durchschnittliche Länge der Wörter in der Zeichenkette zurückgeben. Wir werden annehmen, dass Wörter durch Leerzeichen getrennt sind. Benutzen Sie dazu die Methode `split` und die Funktion `len`.\n",
    "\n",
    "**Hinweis**: Die Methode `split` gibt eine Liste aus Zeichenketten, die durch Trennzeichen getrennt sind, zurück.\n",
    "\n",
    "```python\n",
    "my_string = \"Hello World\"\n",
    "words = my_string.split(\" \")\n",
    "print(words) # gibt [\"Hello\", \"World\"] aus\n",
    "```\n",
    "\n",
    "```python\n",
    "my_string = \"Cheese, Bread, Milk        and Butter\"\n",
    "words = my_string.split(\", \")\n",
    "print(words) # gibt [\"Cheese\", \"Bread\", \"Milk        and Butter\"] aus\n",
    "```"
   ]
  },
  {
   "cell_type": "code",
   "execution_count": null,
   "metadata": {
    "tags": []
   },
   "outputs": [],
   "source": [
    "def average_word_length(sentence):\n",
    "    words = ...\n",
    "    word_lengths = [len(...) for ... in ...]\n",
    "    return ..."
   ]
  },
  {
   "cell_type": "code",
   "execution_count": null,
   "metadata": {
    "deletable": false,
    "editable": false
   },
   "outputs": [],
   "source": [
    "average_word_length(\"Hello World\") == 5"
   ]
  },
  {
   "cell_type": "code",
   "execution_count": null,
   "metadata": {
    "deletable": false,
    "editable": false
   },
   "outputs": [],
   "source": [
    "average_word_length(\"Hi everybody\") == (9 + 2) / 2"
   ]
  }
 ],
 "metadata": {
  "kernelspec": {
   "display_name": "Python 3",
   "language": "python",
   "name": "python3"
  },
  "language_info": {
   "codemirror_mode": {
    "name": "ipython",
    "version": 3
   },
   "file_extension": ".py",
   "mimetype": "text/x-python",
   "name": "python",
   "nbconvert_exporter": "python",
   "pygments_lexer": "ipython3",
   "version": "3.11.7"
  },
  "otter": {
   "OK_FORMAT": true,
   "tests": {
    "q1": {
     "name": "q1",
     "points": null,
     "suites": [
      {
       "cases": [
        {
         "code": ">>> income_person1 == 100\nTrue",
         "hidden": false,
         "locked": false
        },
        {
         "code": ">>> income_person2 == 80\nTrue",
         "hidden": false,
         "locked": false
        }
       ],
       "scored": true,
       "setup": "",
       "teardown": "",
       "type": "doctest"
      }
     ]
    },
    "q10": {
     "name": "q10",
     "points": null,
     "suites": [
      {
       "cases": [
        {
         "code": ">>> msg == 'Dear Phillip Jones, your total purchases amount to 30010.5 EUR.'\nTrue",
         "hidden": false,
         "locked": false
        }
       ],
       "scored": true,
       "setup": "",
       "teardown": "",
       "type": "doctest"
      }
     ]
    },
    "q11": {
     "name": "q11",
     "points": null,
     "suites": [
      {
       "cases": [
        {
         "code": ">>> customer['first_name'] == 'John'\nTrue",
         "hidden": false,
         "locked": false
        },
        {
         "code": ">>> customer['last_name'] == 'Davis'\nTrue",
         "hidden": false,
         "locked": false
        },
        {
         "code": ">>> customer['city'] == 'New York'\nTrue",
         "hidden": false,
         "locked": false
        },
        {
         "code": ">>> len(customer['session_durations']) == 3\nTrue",
         "hidden": false,
         "locked": false
        },
        {
         "code": ">>> customer['session_durations'][-1] == 0\nTrue",
         "hidden": false,
         "locked": false
        }
       ],
       "scored": true,
       "setup": "",
       "teardown": "",
       "type": "doctest"
      }
     ]
    },
    "q12": {
     "name": "q12",
     "points": null,
     "suites": [
      {
       "cases": [
        {
         "code": ">>> len(customers_names_new_york) == 2\nTrue",
         "hidden": false,
         "locked": false
        },
        {
         "code": ">>> customers_names_new_york[0] == 'John'\nTrue",
         "hidden": false,
         "locked": false
        },
        {
         "code": ">>> customers_names_new_york[1] == 'Tina'\nTrue",
         "hidden": false,
         "locked": false
        }
       ],
       "scored": true,
       "setup": "",
       "teardown": "",
       "type": "doctest"
      }
     ]
    },
    "q13a": {
     "name": "q13a",
     "points": null,
     "suites": [
      {
       "cases": [
        {
         "code": ">>> account1 == 33\nTrue",
         "hidden": false,
         "locked": false
        },
        {
         "code": ">>> account2 == 80\nTrue",
         "hidden": false,
         "locked": false
        }
       ],
       "scored": true,
       "setup": "",
       "teardown": "",
       "type": "doctest"
      }
     ]
    },
    "q14": {
     "name": "q14",
     "points": null,
     "suites": [
      {
       "cases": [
        {
         "code": ">>> calculate_mean(0, 0) == 0\nTrue",
         "hidden": false,
         "locked": false
        },
        {
         "code": ">>> calculate_mean(1, 1) == 1\nTrue",
         "hidden": false,
         "locked": false
        }
       ],
       "scored": true,
       "setup": "",
       "teardown": "",
       "type": "doctest"
      }
     ]
    },
    "q15": {
     "name": "q15",
     "points": null,
     "suites": [
      {
       "cases": [
        {
         "code": ">>> calculate_mean_list([0, 0]) == 0\nTrue",
         "hidden": false,
         "locked": false
        },
        {
         "code": ">>> calculate_mean_list([1, 1]) == 1\nTrue",
         "hidden": false,
         "locked": false
        }
       ],
       "scored": true,
       "setup": "",
       "teardown": "",
       "type": "doctest"
      }
     ]
    },
    "q2": {
     "name": "q2",
     "points": null,
     "suites": [
      {
       "cases": [
        {
         "code": ">>> mean_ab == 89\nTrue",
         "hidden": false,
         "locked": false
        }
       ],
       "scored": true,
       "setup": "",
       "teardown": "",
       "type": "doctest"
      }
     ]
    },
    "q3": {
     "name": "q3",
     "points": null,
     "suites": [
      {
       "cases": [
        {
         "code": ">>> np.isclose(result, 3.12 ** 8)\nTrue",
         "hidden": false,
         "locked": false
        }
       ],
       "scored": true,
       "setup": "",
       "teardown": "",
       "type": "doctest"
      }
     ]
    },
    "q4": {
     "name": "q4",
     "points": null,
     "suites": [
      {
       "cases": [
        {
         "code": ">>> person_name == 'Jane Doe Junior'\nTrue",
         "hidden": false,
         "locked": false
        }
       ],
       "scored": true,
       "setup": "",
       "teardown": "",
       "type": "doctest"
      }
     ]
    },
    "q5": {
     "name": "q5",
     "points": null,
     "suites": [
      {
       "cases": [
        {
         "code": ">>> name_length == len(person_name_2)\nTrue",
         "hidden": false,
         "locked": false
        }
       ],
       "scored": true,
       "setup": "",
       "teardown": "",
       "type": "doctest"
      }
     ]
    },
    "q6": {
     "name": "q6",
     "points": null,
     "suites": [
      {
       "cases": [
        {
         "code": ">>> len(gas_bills_usd) == 4\nTrue",
         "hidden": false,
         "locked": false
        },
        {
         "code": ">>> len(gas_bills_eur) == len(gas_bills_usd)\nTrue",
         "hidden": false,
         "locked": false
        },
        {
         "code": ">>> assert np.isclose(gas_bills_eur[0], gas_bills_usd[0] * 0.85)\n",
         "hidden": false,
         "locked": false
        }
       ],
       "scored": true,
       "setup": "",
       "teardown": "",
       "type": "doctest"
      }
     ]
    },
    "q7": {
     "name": "q7",
     "points": null,
     "suites": [
      {
       "cases": [
        {
         "code": ">>> len(usage_limit_exceeded) == 2\nTrue",
         "hidden": false,
         "locked": false
        },
        {
         "code": ">>> usage_limit_exceeded[0] == 4839\nTrue",
         "hidden": false,
         "locked": false
        }
       ],
       "scored": true,
       "setup": "",
       "teardown": "",
       "type": "doctest"
      }
     ]
    },
    "q8": {
     "name": "q8",
     "points": null,
     "suites": [
      {
       "cases": [
        {
         "code": ">>> len(bulb_survival_corrected) == len(bulb_survival)\nTrue",
         "hidden": false,
         "locked": false
        },
        {
         "code": ">>> bulb_survival_corrected[0] == bulb_survival[0] * 0.9\nTrue",
         "hidden": false,
         "locked": false
        }
       ],
       "scored": true,
       "setup": "",
       "teardown": "",
       "type": "doctest"
      }
     ]
    },
    "q9": {
     "name": "q9",
     "points": null,
     "suites": [
      {
       "cases": [
        {
         "code": ">>> len(bulb_survival1) == 5\nTrue",
         "hidden": false,
         "locked": false
        },
        {
         "code": ">>> bulb_survival1[1] == 1.2\nFalse",
         "hidden": false,
         "locked": false
        }
       ],
       "scored": true,
       "setup": "",
       "teardown": "",
       "type": "doctest"
      }
     ]
    }
   }
  },
  "varInspector": {
   "cols": {
    "lenName": 16,
    "lenType": 16,
    "lenVar": 40
   },
   "kernels_config": {
    "python": {
     "delete_cmd_postfix": "",
     "delete_cmd_prefix": "del ",
     "library": "var_list.py",
     "varRefreshCmd": "print(var_dic_list())"
    },
    "r": {
     "delete_cmd_postfix": ") ",
     "delete_cmd_prefix": "rm(",
     "library": "var_list.r",
     "varRefreshCmd": "cat(var_dic_list()) "
    }
   },
   "types_to_exclude": [
    "module",
    "function",
    "builtin_function_or_method",
    "instance",
    "_Feature"
   ],
   "window_display": false
  }
 },
 "nbformat": 4,
 "nbformat_minor": 4
}
